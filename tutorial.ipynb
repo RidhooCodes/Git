{
 "cells": [
  {
   "cell_type": "code",
   "execution_count": 1,
   "id": "69f12672",
   "metadata": {},
   "outputs": [],
   "source": [
    "person = (\"Sunday\",\"Data Science\",\"Fall Session\")"
   ]
  },
  {
   "cell_type": "code",
   "execution_count": 2,
   "id": "e65e8cf1",
   "metadata": {},
   "outputs": [],
   "source": [
    "person1 = \"Victoria\",\"Data Science\",\"Fall Session\""
   ]
  },
  {
   "cell_type": "code",
   "execution_count": 3,
   "id": "7f95993c",
   "metadata": {},
   "outputs": [],
   "source": [
    "import pandas as pd"
   ]
  },
  {
   "cell_type": "code",
   "execution_count": 3,
   "id": "53bffea0",
   "metadata": {
    "scrolled": true
   },
   "outputs": [
    {
     "name": "stdout",
     "output_type": "stream",
     "text": [
      "50 * 10 = 500\n"
     ]
    }
   ],
   "source": [
    "x = 50\n",
    "y = 10\n",
    "print('{0} * {1} = {2}'.format(x, y, x * y))"
   ]
  },
  {
   "cell_type": "code",
   "execution_count": 4,
   "id": "c70dacb9",
   "metadata": {},
   "outputs": [
    {
     "name": "stdout",
     "output_type": "stream",
     "text": [
      "Hello Mardiyah\n"
     ]
    }
   ],
   "source": [
    "name = 'Mardiyah'\n",
    "print('Hello %s' %name)"
   ]
  },
  {
   "cell_type": "code",
   "execution_count": 7,
   "id": "4b8f9b63",
   "metadata": {},
   "outputs": [
    {
     "name": "stdout",
     "output_type": "stream",
     "text": [
      "Hello Mardiyah! are you 20 years old?\n"
     ]
    }
   ],
   "source": [
    "age = 20\n",
    "print('Hello %s! are you %d years old?' %(name, age))"
   ]
  },
  {
   "cell_type": "code",
   "execution_count": 8,
   "id": "62ae6dfc",
   "metadata": {},
   "outputs": [
    {
     "name": "stdout",
     "output_type": "stream",
     "text": [
      "Enter some value:25\n"
     ]
    }
   ],
   "source": [
    "value = input('Enter some value:')"
   ]
  },
  {
   "cell_type": "code",
   "execution_count": 9,
   "id": "3710f608",
   "metadata": {},
   "outputs": [
    {
     "data": {
      "text/plain": [
       "'25'"
      ]
     },
     "execution_count": 9,
     "metadata": {},
     "output_type": "execute_result"
    }
   ],
   "source": [
    "value"
   ]
  },
  {
   "cell_type": "code",
   "execution_count": 12,
   "id": "2a04ef54",
   "metadata": {},
   "outputs": [
    {
     "name": "stdout",
     "output_type": "stream",
     "text": [
      "Enter some value: 25\n"
     ]
    }
   ],
   "source": [
    "value = int(input('Enter some value: '))"
   ]
  },
  {
   "cell_type": "code",
   "execution_count": 13,
   "id": "bccd53d5",
   "metadata": {},
   "outputs": [
    {
     "data": {
      "text/plain": [
       "25"
      ]
     },
     "execution_count": 13,
     "metadata": {},
     "output_type": "execute_result"
    }
   ],
   "source": [
    "value"
   ]
  },
  {
   "cell_type": "code",
   "execution_count": 17,
   "id": "e0579710",
   "metadata": {},
   "outputs": [],
   "source": [
    "import math"
   ]
  },
  {
   "cell_type": "code",
   "execution_count": 18,
   "id": "4c05142a",
   "metadata": {
    "scrolled": true
   },
   "outputs": [
    {
     "data": {
      "text/plain": [
       "10.0"
      ]
     },
     "execution_count": 18,
     "metadata": {},
     "output_type": "execute_result"
    }
   ],
   "source": []
  },
  {
   "cell_type": "code",
   "execution_count": 21,
   "id": "ae63dd7a",
   "metadata": {},
   "outputs": [
    {
     "data": {
      "text/plain": [
       "True"
      ]
     },
     "execution_count": 21,
     "metadata": {},
     "output_type": "execute_result"
    }
   ],
   "source": [
    "True"
   ]
  },
  {
   "cell_type": "code",
   "execution_count": 22,
   "id": "fc765253",
   "metadata": {},
   "outputs": [],
   "source": [
    "x = 100"
   ]
  },
  {
   "cell_type": "code",
   "execution_count": 24,
   "id": "75f3cb06",
   "metadata": {},
   "outputs": [
    {
     "name": "stdout",
     "output_type": "stream",
     "text": [
      "x is = 100\n"
     ]
    }
   ],
   "source": [
    "if x == 100:\n",
    "    print('x is =', x)"
   ]
  },
  {
   "cell_type": "code",
   "execution_count": 25,
   "id": "e9303a18",
   "metadata": {},
   "outputs": [
    {
     "name": "stdout",
     "output_type": "stream",
     "text": [
      "Enter a name: Leo\n",
      "Name entered is :  Leo\n"
     ]
    }
   ],
   "source": [
    "name = input('Enter a name: ')\n",
    "if name == 'Max':\n",
    "    print('Name entered is : ', name)\n",
    "elif name == 'Leo':\n",
    "    print('Name entered is : ', name)\n",
    "elif name == \"Sun\":\n",
    "    print('Name entered is : ', name)\n",
    "elif name == \"Tin\":\n",
    "    print('Name entered is : ', name)\n",
    "else:\n",
    "    print(\"The name entered is invalid\")"
   ]
  },
  {
   "cell_type": "code",
   "execution_count": 33,
   "id": "4db851e1",
   "metadata": {},
   "outputs": [
    {
     "name": "stdout",
     "output_type": "stream",
     "text": [
      "Enter your email address: mardiyah@gmail.com\n",
      "Welcome on board  Mardiyah\n"
     ]
    }
   ],
   "source": [
    "email = input(\"Enter your email address: \")\n",
    "name = (\"Mardiyah\",\"dara\")\n",
    "if email == \"mardiyah@gmail.com\":\n",
    "    print(\"Welcome on board \", name[0])\n",
    "elif email == \"dara@gmail.com\":\n",
    "    print(\"Welcome on board\", name[1])\n",
    "else:\n",
    "    print(\"your email does not exist\")"
   ]
  },
  {
   "cell_type": "code",
   "execution_count": 46,
   "id": "74f1ec99",
   "metadata": {},
   "outputs": [
    {
     "name": "stdout",
     "output_type": "stream",
     "text": [
      "Enter your age: 11\n",
      "you are eligble\n"
     ]
    }
   ],
   "source": [
    "gender = \"male\"\n",
    "age = int(input(\"Enter your age: \"))\n",
    "if gender == \"male\":\n",
    "    print(\"you are eligble\")\n",
    "    if age < 10 or age > 13:\n",
    "        print(\"you are not eligible\")\n",
    "else:\n",
    "    print(\"try again later\")"
   ]
  },
  {
   "cell_type": "code",
   "execution_count": 47,
   "id": "aad76240",
   "metadata": {},
   "outputs": [],
   "source": [
    "x = [1,2,3,4,5,6]\n",
    "s = x.copy()"
   ]
  },
  {
   "cell_type": "code",
   "execution_count": 48,
   "id": "8cb7149c",
   "metadata": {},
   "outputs": [
    {
     "data": {
      "text/plain": [
       "[1, 2, 3, 4, 5, 6]"
      ]
     },
     "execution_count": 48,
     "metadata": {},
     "output_type": "execute_result"
    }
   ],
   "source": [
    "s"
   ]
  },
  {
   "cell_type": "code",
   "execution_count": 49,
   "id": "2723e024",
   "metadata": {},
   "outputs": [
    {
     "data": {
      "text/plain": [
       "[1, 2, 3, 4, 5, 6, 1, 2, 3, 4, 5, 6]"
      ]
     },
     "execution_count": 49,
     "metadata": {},
     "output_type": "execute_result"
    }
   ],
   "source": [
    "t = x + s\n",
    "t"
   ]
  },
  {
   "cell_type": "code",
   "execution_count": 53,
   "id": "b6b454de",
   "metadata": {},
   "outputs": [
    {
     "name": "stdout",
     "output_type": "stream",
     "text": [
      "('hi', 'hi', 'hi', 'hi', 'hi')\n"
     ]
    }
   ],
   "source": [
    "hello = (\"hi\",) * 5\n",
    "print(hello)"
   ]
  },
  {
   "cell_type": "code",
   "execution_count": 54,
   "id": "0c4d973e",
   "metadata": {},
   "outputs": [],
   "source": [
    "a = {1,2,3,2,5,3,7,6}"
   ]
  },
  {
   "cell_type": "code",
   "execution_count": 55,
   "id": "67ae6f94",
   "metadata": {},
   "outputs": [
    {
     "data": {
      "text/plain": [
       "6"
      ]
     },
     "execution_count": 55,
     "metadata": {},
     "output_type": "execute_result"
    }
   ],
   "source": [
    "len(a)"
   ]
  },
  {
   "cell_type": "code",
   "execution_count": 56,
   "id": "881c7227",
   "metadata": {},
   "outputs": [
    {
     "data": {
      "text/plain": [
       "{1, 2, 3, 5, 6, 7}"
      ]
     },
     "execution_count": 56,
     "metadata": {},
     "output_type": "execute_result"
    }
   ],
   "source": [
    "a"
   ]
  },
  {
   "cell_type": "code",
   "execution_count": 58,
   "id": "78440d9a",
   "metadata": {},
   "outputs": [],
   "source": [
    " x =set(x)"
   ]
  },
  {
   "cell_type": "code",
   "execution_count": 59,
   "id": "7edd4a36",
   "metadata": {},
   "outputs": [
    {
     "data": {
      "text/plain": [
       "{1, 2, 3, 4, 5, 6}"
      ]
     },
     "execution_count": 59,
     "metadata": {},
     "output_type": "execute_result"
    }
   ],
   "source": [
    "x"
   ]
  },
  {
   "cell_type": "code",
   "execution_count": 60,
   "id": "3a720b55",
   "metadata": {},
   "outputs": [
    {
     "data": {
      "text/plain": [
       "{1, 2, 3, 4, 5, 6, 7}"
      ]
     },
     "execution_count": 60,
     "metadata": {},
     "output_type": "execute_result"
    }
   ],
   "source": [
    "a | x"
   ]
  },
  {
   "cell_type": "code",
   "execution_count": 61,
   "id": "9c35d88b",
   "metadata": {},
   "outputs": [
    {
     "data": {
      "text/plain": [
       "{1, 2, 3, 4, 5, 6, 7}"
      ]
     },
     "execution_count": 61,
     "metadata": {},
     "output_type": "execute_result"
    }
   ],
   "source": [
    "a.union(x)"
   ]
  },
  {
   "cell_type": "code",
   "execution_count": 62,
   "id": "41884be6",
   "metadata": {},
   "outputs": [
    {
     "data": {
      "text/plain": [
       "{1, 2, 3, 5, 6}"
      ]
     },
     "execution_count": 62,
     "metadata": {},
     "output_type": "execute_result"
    }
   ],
   "source": [
    "a.intersection(x)"
   ]
  },
  {
   "cell_type": "code",
   "execution_count": 63,
   "id": "55f680bf",
   "metadata": {},
   "outputs": [
    {
     "data": {
      "text/plain": [
       "{7}"
      ]
     },
     "execution_count": 63,
     "metadata": {},
     "output_type": "execute_result"
    }
   ],
   "source": [
    "a - x"
   ]
  },
  {
   "cell_type": "code",
   "execution_count": 1,
   "id": "1c68a69e",
   "metadata": {},
   "outputs": [],
   "source": [
    " x = \"I am\""
   ]
  },
  {
   "cell_type": "code",
   "execution_count": 2,
   "id": "1f915925",
   "metadata": {},
   "outputs": [],
   "source": [
    "y = \"a girl\""
   ]
  },
  {
   "cell_type": "code",
   "execution_count": 3,
   "id": "65eb409b",
   "metadata": {},
   "outputs": [
    {
     "name": "stdout",
     "output_type": "stream",
     "text": [
      "I am a girl\n"
     ]
    }
   ],
   "source": [
    "print(x,y)"
   ]
  },
  {
   "cell_type": "code",
   "execution_count": 7,
   "id": "0a142f7a",
   "metadata": {},
   "outputs": [
    {
     "name": "stdout",
     "output_type": "stream",
     "text": [
      "Mardiyah, Thank you for coming through\n",
      "Haymin, Thank you for coming through\n",
      "Zee, Thank you for coming through\n",
      "Ruby, Thank you for coming through\n",
      "Don, Thank you for coming through\n",
      "Thank you all\n"
     ]
    }
   ],
   "source": [
    "names = [\"Mardiyah\",\"Haymin\",\"Zee\",\"Ruby\",\"Don\"]\n",
    "for name in names:\n",
    "    print(f\"{name}, Thank you for coming through\")\n",
    "print(\"Thank you all\")"
   ]
  },
  {
   "cell_type": "code",
   "execution_count": 8,
   "id": "6eecd7f7",
   "metadata": {},
   "outputs": [
    {
     "name": "stdout",
     "output_type": "stream",
     "text": [
      "Mardiyah, Thank you for coming through\n",
      "Thank you all\n",
      "Haymin, Thank you for coming through\n",
      "Thank you all\n",
      "Zee, Thank you for coming through\n",
      "Thank you all\n",
      "Ruby, Thank you for coming through\n",
      "Thank you all\n",
      "Don, Thank you for coming through\n",
      "Thank you all\n"
     ]
    }
   ],
   "source": [
    "names = [\"Mardiyah\",\"Haymin\",\"Zee\",\"Ruby\",\"Don\"]\n",
    "for name in names:\n",
    "    print(f\"{name}, Thank you for coming through\")\n",
    "    print(\"Thank you all\")"
   ]
  },
  {
   "cell_type": "code",
   "execution_count": 9,
   "id": "02f6e0c3",
   "metadata": {},
   "outputs": [],
   "source": [
    "#The Range Function"
   ]
  },
  {
   "cell_type": "code",
   "execution_count": 11,
   "id": "71b4385f",
   "metadata": {},
   "outputs": [
    {
     "data": {
      "text/plain": [
       "range(0, 10)"
      ]
     },
     "execution_count": 11,
     "metadata": {},
     "output_type": "execute_result"
    }
   ],
   "source": [
    "range(0,10)"
   ]
  },
  {
   "cell_type": "code",
   "execution_count": 12,
   "id": "7f5b2cee",
   "metadata": {},
   "outputs": [],
   "source": [
    "lst = list(range(0,10))"
   ]
  },
  {
   "cell_type": "code",
   "execution_count": 13,
   "id": "3748746f",
   "metadata": {},
   "outputs": [
    {
     "data": {
      "text/plain": [
       "[0, 1, 2, 3, 4, 5, 6, 7, 8, 9]"
      ]
     },
     "execution_count": 13,
     "metadata": {},
     "output_type": "execute_result"
    }
   ],
   "source": [
    "lst"
   ]
  },
  {
   "cell_type": "code",
   "execution_count": 36,
   "id": "24703280",
   "metadata": {},
   "outputs": [
    {
     "name": "stdout",
     "output_type": "stream",
     "text": [
      "1\n",
      "4\n",
      "9\n",
      "16\n",
      "25\n",
      "36\n",
      "49\n",
      "64\n",
      "81\n"
     ]
    }
   ],
   "source": [
    "#creating a list with list comprehension\n",
    "for n in range(1,10):\n",
    "    squares = n**2\n",
    "    print(squares)"
   ]
  },
  {
   "cell_type": "code",
   "execution_count": 20,
   "id": "8cf00038",
   "metadata": {},
   "outputs": [
    {
     "name": "stdout",
     "output_type": "stream",
     "text": [
      "[1, 4, 9, 16, 25, 36, 49, 64, 81]\n"
     ]
    }
   ],
   "source": [
    "#list comprehension\n",
    "square = [n ** 2 for n in range(1,10)]\n",
    "print(square)"
   ]
  },
  {
   "cell_type": "code",
   "execution_count": 24,
   "id": "90149e1d",
   "metadata": {},
   "outputs": [],
   "source": [
    "#for loop and slicing lists"
   ]
  },
  {
   "cell_type": "code",
   "execution_count": 25,
   "id": "cc0cf679",
   "metadata": {},
   "outputs": [
    {
     "name": "stdout",
     "output_type": "stream",
     "text": [
      "1\n",
      "16\n",
      "81\n",
      "256\n"
     ]
    }
   ],
   "source": [
    "for n in square[:4]:\n",
    "    print(n ** 2)"
   ]
  },
  {
   "cell_type": "code",
   "execution_count": 26,
   "id": "8b2a806a",
   "metadata": {},
   "outputs": [],
   "source": [
    "#copy of a list\n",
    "square_copy = square[:]"
   ]
  },
  {
   "cell_type": "code",
   "execution_count": 27,
   "id": "af22e301",
   "metadata": {},
   "outputs": [
    {
     "data": {
      "text/plain": [
       "[1, 4, 9, 16, 25, 36, 49, 64, 81]"
      ]
     },
     "execution_count": 27,
     "metadata": {},
     "output_type": "execute_result"
    }
   ],
   "source": [
    "square_copy"
   ]
  },
  {
   "cell_type": "code",
   "execution_count": 28,
   "id": "01848283",
   "metadata": {},
   "outputs": [
    {
     "data": {
      "text/plain": [
       "[1, 4, 9, 16, 25, 36, 49, 64, 81]"
      ]
     },
     "execution_count": 28,
     "metadata": {},
     "output_type": "execute_result"
    }
   ],
   "source": [
    "square"
   ]
  },
  {
   "cell_type": "code",
   "execution_count": 37,
   "id": "c1af20d6",
   "metadata": {},
   "outputs": [],
   "source": [
    "x = list(range(1,10))"
   ]
  },
  {
   "cell_type": "code",
   "execution_count": 38,
   "id": "b0814a05",
   "metadata": {},
   "outputs": [
    {
     "data": {
      "text/plain": [
       "[1, 2, 3, 4, 5, 6, 7, 8, 9]"
      ]
     },
     "execution_count": 38,
     "metadata": {},
     "output_type": "execute_result"
    }
   ],
   "source": [
    "x"
   ]
  },
  {
   "cell_type": "code",
   "execution_count": 1,
   "id": "67d5d8de",
   "metadata": {},
   "outputs": [],
   "source": [
    "#if statements"
   ]
  },
  {
   "cell_type": "code",
   "execution_count": 1,
   "id": "dda4278b",
   "metadata": {},
   "outputs": [],
   "source": [
    "age = 17\n",
    "if age >= 18:\n",
    "    print('you are qualified to vote')"
   ]
  },
  {
   "cell_type": "code",
   "execution_count": 4,
   "id": "7f4c027e",
   "metadata": {},
   "outputs": [],
   "source": [
    "#if else statement"
   ]
  },
  {
   "cell_type": "code",
   "execution_count": 5,
   "id": "11256c8f",
   "metadata": {},
   "outputs": [
    {
     "name": "stdout",
     "output_type": "stream",
     "text": [
      "not qualified to vote\n"
     ]
    }
   ],
   "source": [
    "age = 17\n",
    "if age >= 18:\n",
    "    print('you are qualified to vote')\n",
    "else:\n",
    "    print('not qualified to vote')"
   ]
  },
  {
   "cell_type": "code",
   "execution_count": 2,
   "id": "33d0b1a5",
   "metadata": {},
   "outputs": [],
   "source": [
    "#dictionaries"
   ]
  },
  {
   "cell_type": "code",
   "execution_count": 4,
   "id": "19965c01",
   "metadata": {},
   "outputs": [],
   "source": [
    "D = {'name':'max','year':2004,'age':14}"
   ]
  },
  {
   "cell_type": "code",
   "execution_count": 5,
   "id": "c68124cf",
   "metadata": {},
   "outputs": [],
   "source": [
    "D['name'] = 'tom'"
   ]
  },
  {
   "cell_type": "code",
   "execution_count": 6,
   "id": "a76d873d",
   "metadata": {},
   "outputs": [
    {
     "data": {
      "text/plain": [
       "{'name': 'tom', 'year': 2004, 'age': 14}"
      ]
     },
     "execution_count": 6,
     "metadata": {},
     "output_type": "execute_result"
    }
   ],
   "source": [
    "D"
   ]
  },
  {
   "cell_type": "code",
   "execution_count": 7,
   "id": "8a6f2856",
   "metadata": {},
   "outputs": [],
   "source": [
    "D.update({'name':'max'})"
   ]
  },
  {
   "cell_type": "code",
   "execution_count": 8,
   "id": "dd854f50",
   "metadata": {},
   "outputs": [
    {
     "data": {
      "text/plain": [
       "{'name': 'max', 'year': 2004, 'age': 14}"
      ]
     },
     "execution_count": 8,
     "metadata": {},
     "output_type": "execute_result"
    }
   ],
   "source": [
    "D"
   ]
  },
  {
   "cell_type": "code",
   "execution_count": 10,
   "id": "5fad09be",
   "metadata": {},
   "outputs": [
    {
     "data": {
      "text/plain": [
       "dict_items([('name', 'max'), ('year', 2004), ('age', 14)])"
      ]
     },
     "execution_count": 10,
     "metadata": {},
     "output_type": "execute_result"
    }
   ],
   "source": [
    "D.items()"
   ]
  },
  {
   "cell_type": "code",
   "execution_count": 11,
   "id": "1fd4b78c",
   "metadata": {},
   "outputs": [],
   "source": [
    "#while loop"
   ]
  },
  {
   "cell_type": "code",
   "execution_count": 13,
   "id": "5a67194d",
   "metadata": {},
   "outputs": [
    {
     "name": "stdout",
     "output_type": "stream",
     "text": [
      "the value of i is: 0\n",
      "the value of i is: 1\n",
      "the value of i is: 2\n",
      "the value of i is: 3\n",
      "the value of i is: 4\n",
      "finished while loop\n"
     ]
    }
   ],
   "source": [
    "i = 0\n",
    "while i < 5:\n",
    "    print('the value of i is:', i)\n",
    "    i += 1\n",
    "print('finished while loop')"
   ]
  },
  {
   "cell_type": "code",
   "execution_count": 1,
   "id": "c869b7b0",
   "metadata": {},
   "outputs": [],
   "source": [
    "#quick dictionary\n",
    "student_info = {'firstname':'Akinpelumi','age':12,'class':'jss3'}"
   ]
  },
  {
   "cell_type": "code",
   "execution_count": 4,
   "id": "d1efd584",
   "metadata": {},
   "outputs": [
    {
     "data": {
      "text/plain": [
       "True"
      ]
     },
     "execution_count": 4,
     "metadata": {},
     "output_type": "execute_result"
    }
   ],
   "source": [
    "'firstname' in student_info"
   ]
  },
  {
   "cell_type": "code",
   "execution_count": 5,
   "id": "9a800a41",
   "metadata": {},
   "outputs": [
    {
     "data": {
      "text/plain": [
       "dict_items([('firstname', 'Akinpelumi'), ('age', 12), ('class', 'jss3')])"
      ]
     },
     "execution_count": 5,
     "metadata": {},
     "output_type": "execute_result"
    }
   ],
   "source": [
    "student_info.items()"
   ]
  },
  {
   "cell_type": "code",
   "execution_count": 6,
   "id": "44b76265",
   "metadata": {},
   "outputs": [
    {
     "data": {
      "text/plain": [
       "dict_keys(['firstname', 'age', 'class'])"
      ]
     },
     "execution_count": 6,
     "metadata": {},
     "output_type": "execute_result"
    }
   ],
   "source": [
    "student_info.keys()"
   ]
  },
  {
   "cell_type": "code",
   "execution_count": 7,
   "id": "404a5064",
   "metadata": {},
   "outputs": [],
   "source": [
    "old_key = 'firstname'\n",
    "new_key = 'alias'\n",
    "\n",
    "student_info[new_key] = student_info.pop(old_key)"
   ]
  },
  {
   "cell_type": "code",
   "execution_count": 8,
   "id": "70ffbcd7",
   "metadata": {},
   "outputs": [
    {
     "data": {
      "text/plain": [
       "{'age': 12, 'class': 'jss3', 'alias': 'Akinpelumi'}"
      ]
     },
     "execution_count": 8,
     "metadata": {},
     "output_type": "execute_result"
    }
   ],
   "source": [
    "student_info"
   ]
  },
  {
   "cell_type": "code",
   "execution_count": 9,
   "id": "57db04fc",
   "metadata": {},
   "outputs": [],
   "source": [
    "revenue = {'months':['jan', 'feb', 'mar',\n",
    "                    'apr', 'may','jun', 'jul',\n",
    "                    'aug', 'sept', 'oct',\n",
    "                    'nov', 'dec'],\n",
    "          'monthly_sales': [120, 135, 150, 145, 155, 160, 170, 180, 190, 200, 210, 220] }"
   ]
  },
  {
   "cell_type": "code",
   "execution_count": 10,
   "id": "4feaebe2",
   "metadata": {},
   "outputs": [],
   "source": [
    "import pandas as pd"
   ]
  },
  {
   "cell_type": "code",
   "execution_count": 13,
   "id": "f7a718e2",
   "metadata": {},
   "outputs": [],
   "source": [
    "revenue_df = pd.DataFrame(revenue)"
   ]
  },
  {
   "cell_type": "code",
   "execution_count": 14,
   "id": "8eb43142",
   "metadata": {},
   "outputs": [
    {
     "data": {
      "text/html": [
       "<div>\n",
       "<style scoped>\n",
       "    .dataframe tbody tr th:only-of-type {\n",
       "        vertical-align: middle;\n",
       "    }\n",
       "\n",
       "    .dataframe tbody tr th {\n",
       "        vertical-align: top;\n",
       "    }\n",
       "\n",
       "    .dataframe thead th {\n",
       "        text-align: right;\n",
       "    }\n",
       "</style>\n",
       "<table border=\"1\" class=\"dataframe\">\n",
       "  <thead>\n",
       "    <tr style=\"text-align: right;\">\n",
       "      <th></th>\n",
       "      <th>months</th>\n",
       "      <th>monthly_sales</th>\n",
       "    </tr>\n",
       "  </thead>\n",
       "  <tbody>\n",
       "    <tr>\n",
       "      <th>0</th>\n",
       "      <td>jan</td>\n",
       "      <td>120</td>\n",
       "    </tr>\n",
       "    <tr>\n",
       "      <th>1</th>\n",
       "      <td>feb</td>\n",
       "      <td>135</td>\n",
       "    </tr>\n",
       "    <tr>\n",
       "      <th>2</th>\n",
       "      <td>mar</td>\n",
       "      <td>150</td>\n",
       "    </tr>\n",
       "    <tr>\n",
       "      <th>3</th>\n",
       "      <td>apr</td>\n",
       "      <td>145</td>\n",
       "    </tr>\n",
       "    <tr>\n",
       "      <th>4</th>\n",
       "      <td>may</td>\n",
       "      <td>155</td>\n",
       "    </tr>\n",
       "    <tr>\n",
       "      <th>5</th>\n",
       "      <td>jun</td>\n",
       "      <td>160</td>\n",
       "    </tr>\n",
       "    <tr>\n",
       "      <th>6</th>\n",
       "      <td>jul</td>\n",
       "      <td>170</td>\n",
       "    </tr>\n",
       "    <tr>\n",
       "      <th>7</th>\n",
       "      <td>aug</td>\n",
       "      <td>180</td>\n",
       "    </tr>\n",
       "    <tr>\n",
       "      <th>8</th>\n",
       "      <td>sept</td>\n",
       "      <td>190</td>\n",
       "    </tr>\n",
       "    <tr>\n",
       "      <th>9</th>\n",
       "      <td>oct</td>\n",
       "      <td>200</td>\n",
       "    </tr>\n",
       "    <tr>\n",
       "      <th>10</th>\n",
       "      <td>nov</td>\n",
       "      <td>210</td>\n",
       "    </tr>\n",
       "    <tr>\n",
       "      <th>11</th>\n",
       "      <td>dec</td>\n",
       "      <td>220</td>\n",
       "    </tr>\n",
       "  </tbody>\n",
       "</table>\n",
       "</div>"
      ],
      "text/plain": [
       "   months  monthly_sales\n",
       "0     jan            120\n",
       "1     feb            135\n",
       "2     mar            150\n",
       "3     apr            145\n",
       "4     may            155\n",
       "5     jun            160\n",
       "6     jul            170\n",
       "7     aug            180\n",
       "8    sept            190\n",
       "9     oct            200\n",
       "10    nov            210\n",
       "11    dec            220"
      ]
     },
     "execution_count": 14,
     "metadata": {},
     "output_type": "execute_result"
    }
   ],
   "source": [
    "revenue_df"
   ]
  },
  {
   "cell_type": "code",
   "execution_count": 70,
   "id": "a1e71699",
   "metadata": {},
   "outputs": [
    {
     "name": "stdout",
     "output_type": "stream",
     "text": [
      "\n",
      "booktitle: To kill a mockingbird\n",
      "author: Harper Lee\n",
      "\n",
      "booktitle: Gone with the wind\n",
      "author: Margaret Mitchell\n",
      "\n",
      "booktitle: As I lay dying\n",
      "author: William Faulkner\n",
      "\n",
      "booktitle: The grapes of wrath\n",
      "author: John Steinbeck\n",
      "\n",
      "booktitle: The sun also rises\n",
      "author: Ernest Hemingway\n",
      "\n",
      "booktitle: Absalom, absalom!\n",
      "author: William Faulkner\n",
      "\n",
      "booktitle: The house of mirth\n",
      "author: Edith Wharton\n",
      "\n",
      "booktitle: A time to kill\n",
      "author: John Grisham\n",
      "\n",
      "booktitle: Sarah,plain and tell\n",
      "author: Patricia MacLachlan\n"
     ]
    }
   ],
   "source": [
    "#creating a dictionary representing a library catalogue\n",
    "LC = {'To kill a mockingbird':'Harper Lee','Gone with the wind':'Margaret Mitchell','As I lay dying':'William Faulkner',\n",
    "      'The grapes of wrath':'John Steinbeck','The sun also rises':'Ernest Hemingway','Absalom, absalom!':'William Faulkner',\n",
    "      'The house of mirth':'Edith Wharton','A time to kill':'John Grisham','Sarah,plain and tell':'Patricia MacLachlan'}\n",
    "\n",
    "#creating a for loop to iterate over the dictionary\n",
    "for booktitles,authors in LC.items():\n",
    "    print(f'\\nbooktitle: {booktitles}')\n",
    "    print(f'author: {authors}')\n"
   ]
  },
  {
   "cell_type": "code",
   "execution_count": null,
   "id": "e6cb586b",
   "metadata": {},
   "outputs": [],
   "source": [
    "#creating a for loop so that readers can access author by typing in the book titles\n",
    "LC = {'To kill a mockingbird':'Harper Lee','Gone with the wind':'Margaret Mitchell','As I lay dying':'William Faulkner',\n",
    "      'The grapes of wrath':'John Steinbeck','The sun also rises':'Ernest Hemingway','Absalom, absalom!':'William Faulkner',\n",
    "      'The house of mirth':'Edith Wharton','A time to kill':'John Grisham','Sarah,plain and tell':'Patricia MacLachlan'}\n",
    "\n",
    "Search = input('Enter book title: ')\n",
    "for booktitles,authors in LC.items():\n",
    "    if Search == booktitles:\n",
    "        print(f'author is: {authors}')\n",
    "        break\n",
    "else:\n",
    "        print(\"booktitle is not in LC\")"
   ]
  },
  {
   "cell_type": "code",
   "execution_count": 2,
   "id": "327db9a9",
   "metadata": {},
   "outputs": [
    {
     "name": "stdout",
     "output_type": "stream",
     "text": [
      "Enter book title: fish\n",
      "booktitle is not in LC\n"
     ]
    }
   ],
   "source": [
    "LC = {'To kill a mockingbird':'Harper Lee','Gone with the wind':'Margaret Mitchell','As I lay dying':'William Faulkner',\n",
    "      'The grapes of wrath':'John Steinbeck','The sun also rises':'Ernest Hemingway','Absalom, absalom!':'William Faulkner',\n",
    "      'The house of mirth':'Edith Wharton','A time to kill':'John Grisham','Sarah,plain and tell':'Patricia MacLachlan'}\n",
    "\n",
    "search = input('Enter book title: ')\n",
    "if search in LC:\n",
    "    author = LC[search]\n",
    "    print(f'author is:  {author}')\n",
    "else:\n",
    "    print(f\"booktitle is not in LC\")"
   ]
  },
  {
   "cell_type": "code",
   "execution_count": 4,
   "id": "6951e2cc",
   "metadata": {},
   "outputs": [
    {
     "name": "stdout",
     "output_type": "stream",
     "text": [
      "Enter title of book: In the early hours\n",
      "Enter name of author: Kurram Murad\n",
      "The name of new book added is: In the early hours by Kurram Murad\n"
     ]
    }
   ],
   "source": [
    "# allow users to add new books to the catalog by providing the title and author.\n",
    "new_book = input('Enter title of book: ')\n",
    "new_author = input('Enter name of author: ')\n",
    "LC2 = LC[new_book] = new_author\n",
    "print(f'The name of new book added is: {new_book} by {new_author}')"
   ]
  },
  {
   "cell_type": "code",
   "execution_count": 5,
   "id": "5117269c",
   "metadata": {},
   "outputs": [
    {
     "name": "stdout",
     "output_type": "stream",
     "text": [
      "{'To kill a mockingbird': 'Harper Lee', 'Gone with the wind': 'Margaret Mitchell', 'As I lay dying': 'William Faulkner', 'The grapes of wrath': 'John Steinbeck', 'The sun also rises': 'Ernest Hemingway', 'Absalom, absalom!': 'William Faulkner', 'The house of mirth': 'Edith Wharton', 'A time to kill': 'John Grisham', 'Sarah,plain and tell': 'Patricia MacLachlan', 'In the early hours': 'Kurram Murad'}\n"
     ]
    }
   ],
   "source": [
    "print(LC)"
   ]
  },
  {
   "cell_type": "code",
   "execution_count": 6,
   "id": "afc9458e",
   "metadata": {},
   "outputs": [
    {
     "data": {
      "text/plain": [
       "10"
      ]
     },
     "execution_count": 6,
     "metadata": {},
     "output_type": "execute_result"
    }
   ],
   "source": [
    "len(LC)"
   ]
  },
  {
   "cell_type": "code",
   "execution_count": 10,
   "id": "ece92d5e",
   "metadata": {},
   "outputs": [],
   "source": [
    "# Create a dictionary that represents a dataset of 10 students' and thier test scores (4 courses). \n",
    "# The keys should be dictionaries bearing student names,\n",
    "# in the nested dictionary, let the keys represent a course and the value a score for that course.\n",
    "student_testscore1 = {\"Mardiyah\":{\"Maths\":10,\"Eng\":10,\"Econs\":9,\"Science\":10},\"Tolani\":{\"Maths\":8,\"Eng\":10,\"Econs\":7,\n",
    "                    \"Science\":9},\"Aisha\":{\"Maths\":10,\"Eng\":7,\"Econs\":8,\"Science\":8},\"Islamiyyah\":{\"Maths\":9,\"Eng\":9,\"Econs\":9,\n",
    "                    \"Science\":9},\"Zainab\":{\"Maths\":9,\"Eng\":10,\"Econs\":7,\"Science\":8},\"Olamide\":{\"Maths\":7,\"Eng\":7,\"Econs\":10,\n",
    "                    \"Science\":10},\"Seun\":{\"Maths\":9,\"Eng\":10,\"Econs\":9,\"Science\":10},\"Adam\":{\"Maths\":10,\"Eng\":8,\"Econs\":9,\n",
    "                    \"Science\":7},\"Penne\":{\"Maths\":8,\"Eng\":9,\"Econs\":10,\"Science\":9},\"Tunde\":{\"Maths\":9,\"Eng\":9,\"Econs\":8,\n",
    "                    \"Science\":8}}"
   ]
  },
  {
   "cell_type": "code",
   "execution_count": 11,
   "id": "416c9bfc",
   "metadata": {},
   "outputs": [
    {
     "name": "stdout",
     "output_type": "stream",
     "text": [
      "Enter student name: Mardiyah\n",
      "Average test score for Mardiyah: 9.75\n"
     ]
    }
   ],
   "source": [
    "# Allow the user to input a student's name and display their average test score.\n",
    "Sname = input(\"Enter student name: \")\n",
    "if Sname in student_testscore1:\n",
    "    student = student_testscore1[Sname]\n",
    "    total_score = sum(student.values())\n",
    "    avgTS = (total_score/len(student))\n",
    "    print(f\"Average test score for {Sname}: {avgTS}\")\n",
    "else:\n",
    "    print(f\"Student '{Sname}' not found.\")"
   ]
  },
  {
   "cell_type": "code",
   "execution_count": 12,
   "id": "792bf349",
   "metadata": {},
   "outputs": [],
   "source": [
    "STS = {\"Mardiyah\":{\"Maths\":10,\"Eng\":10,\"Econs\":9,\"Science\":10},\"Tolani\":{\"Maths\":8,\"Eng\":10,\"Econs\":7,\n",
    "                    \"Science\":9},\"Aisha\":{\"Maths\":10,\"Eng\":7,\"Econs\":8,\"Science\":8},\"Islamiyyah\":{\"Maths\":9,\"Eng\":9,\"Econs\":9,\n",
    "                    \"Science\":9},\"Zainab\":{\"Maths\":9,\"Eng\":10,\"Econs\":7,\"Science\":8},\"Olamide\":{\"Maths\":7,\"Eng\":7,\"Econs\":10,\n",
    "                    \"Science\":10},\"Seun\":{\"Maths\":9,\"Eng\":10,\"Econs\":9,\"Science\":10},\"Adam\":{\"Maths\":10,\"Eng\":8,\"Econs\":9,\n",
    "                    \"Science\":7},\"Penne\":{\"Maths\":8,\"Eng\":9,\"Econs\":10,\"Science\":9},\"Tunde\":{\"Maths\":9,\"Eng\":9,\"Econs\":8,\n",
    "                    \"Science\":8}}"
   ]
  },
  {
   "cell_type": "code",
   "execution_count": 14,
   "id": "44c86fa1",
   "metadata": {},
   "outputs": [
    {
     "name": "stdout",
     "output_type": "stream",
     "text": [
      "Enter student name: Ada\n",
      "Student 'Ada' not found.\n"
     ]
    }
   ],
   "source": [
    "Sname = input(\"Enter student name: \")\n",
    "for name,score in STS.items():\n",
    "    if Sname == name:\n",
    "        STS1 =STS[Sname]\n",
    "        TS = sum(STS1.values())\n",
    "        ATS = TS/len(STS1)\n",
    "        print(f\"Average test score for {Sname}: {ATS}\")\n",
    "        break\n",
    "else:\n",
    "    print(f\"Student '{Sname}' not found.\")"
   ]
  },
  {
   "cell_type": "code",
   "execution_count": 54,
   "id": "ce3736d8",
   "metadata": {},
   "outputs": [],
   "source": [
    "# Create a DataFrame from the student test scores dictionary using pandas. Display the DataFrame to the user.\n",
    "import pandas as pd\n",
    "STS_df = pd.DataFrame(STS)"
   ]
  },
  {
   "cell_type": "code",
   "execution_count": 55,
   "id": "1b9d4312",
   "metadata": {},
   "outputs": [
    {
     "data": {
      "text/html": [
       "<div>\n",
       "<style scoped>\n",
       "    .dataframe tbody tr th:only-of-type {\n",
       "        vertical-align: middle;\n",
       "    }\n",
       "\n",
       "    .dataframe tbody tr th {\n",
       "        vertical-align: top;\n",
       "    }\n",
       "\n",
       "    .dataframe thead th {\n",
       "        text-align: right;\n",
       "    }\n",
       "</style>\n",
       "<table border=\"1\" class=\"dataframe\">\n",
       "  <thead>\n",
       "    <tr style=\"text-align: right;\">\n",
       "      <th></th>\n",
       "      <th>Mardiyah</th>\n",
       "      <th>Tolani</th>\n",
       "      <th>Aisha</th>\n",
       "      <th>Islamiyyah</th>\n",
       "      <th>Zainab</th>\n",
       "      <th>Olamide</th>\n",
       "      <th>Seun</th>\n",
       "      <th>Adam</th>\n",
       "      <th>Penne</th>\n",
       "      <th>Tunde</th>\n",
       "    </tr>\n",
       "  </thead>\n",
       "  <tbody>\n",
       "    <tr>\n",
       "      <th>Maths</th>\n",
       "      <td>10</td>\n",
       "      <td>8</td>\n",
       "      <td>10</td>\n",
       "      <td>9</td>\n",
       "      <td>9</td>\n",
       "      <td>7</td>\n",
       "      <td>9</td>\n",
       "      <td>10</td>\n",
       "      <td>8</td>\n",
       "      <td>9</td>\n",
       "    </tr>\n",
       "    <tr>\n",
       "      <th>Eng</th>\n",
       "      <td>10</td>\n",
       "      <td>10</td>\n",
       "      <td>7</td>\n",
       "      <td>9</td>\n",
       "      <td>10</td>\n",
       "      <td>7</td>\n",
       "      <td>10</td>\n",
       "      <td>8</td>\n",
       "      <td>9</td>\n",
       "      <td>9</td>\n",
       "    </tr>\n",
       "    <tr>\n",
       "      <th>Econs</th>\n",
       "      <td>9</td>\n",
       "      <td>7</td>\n",
       "      <td>8</td>\n",
       "      <td>9</td>\n",
       "      <td>7</td>\n",
       "      <td>10</td>\n",
       "      <td>9</td>\n",
       "      <td>9</td>\n",
       "      <td>10</td>\n",
       "      <td>8</td>\n",
       "    </tr>\n",
       "    <tr>\n",
       "      <th>Science</th>\n",
       "      <td>10</td>\n",
       "      <td>9</td>\n",
       "      <td>8</td>\n",
       "      <td>9</td>\n",
       "      <td>8</td>\n",
       "      <td>10</td>\n",
       "      <td>10</td>\n",
       "      <td>7</td>\n",
       "      <td>9</td>\n",
       "      <td>8</td>\n",
       "    </tr>\n",
       "  </tbody>\n",
       "</table>\n",
       "</div>"
      ],
      "text/plain": [
       "         Mardiyah  Tolani  Aisha  Islamiyyah  Zainab  Olamide  Seun  Adam  \\\n",
       "Maths          10       8     10           9       9        7     9    10   \n",
       "Eng            10      10      7           9      10        7    10     8   \n",
       "Econs           9       7      8           9       7       10     9     9   \n",
       "Science        10       9      8           9       8       10    10     7   \n",
       "\n",
       "         Penne  Tunde  \n",
       "Maths        8      9  \n",
       "Eng          9      9  \n",
       "Econs       10      8  \n",
       "Science      9      8  "
      ]
     },
     "execution_count": 55,
     "metadata": {},
     "output_type": "execute_result"
    }
   ],
   "source": [
    "STS_df"
   ]
  },
  {
   "cell_type": "code",
   "execution_count": 25,
   "id": "21f7b580",
   "metadata": {},
   "outputs": [
    {
     "name": "stdout",
     "output_type": "stream",
     "text": [
      "Enter name of product: Soap\n",
      "The price of Soap is 12 and we have 3 left\n"
     ]
    }
   ],
   "source": [
    "#creating a dictionary for a store's inventory\n",
    "Store_Inventory = {'Milk':(10, 5),'Sugar':(8, 4),'Soap':(12, 3),'Chips':(10, 3),'Chocolate':(7, 7),'tea':(9, 4),'Rice':(9, 2),\n",
    "                  'Custard':(12, 6),'Drink':(8, 6),'Water':(5, 15)}\n",
    "\n",
    "# Allow the user to input a product name, and display its price and availability.\n",
    "productName = input('Enter name of product: ')\n",
    "for product, j in Store_Inventory.items():\n",
    "    if productName == product:\n",
    "            Product = Store_Inventory[product]\n",
    "            Price = Product[0]\n",
    "            quantity = Product[1]\n",
    "            print (f'The price of {product} is {Price} and we have {quantity} left')\n",
    "            break\n",
    "else:\n",
    "    print(\"The product you want is not available\")"
   ]
  },
  {
   "cell_type": "code",
   "execution_count": null,
   "id": "8b0a1845",
   "metadata": {},
   "outputs": [
    {
     "name": "stdout",
     "output_type": "stream",
     "text": [
      "Enter name of product: Milk\n",
      "The price of Milk is 10 and we have 5 left\n",
      "quantity bought? 3\n",
      "Amount of Milk bought = 30\n",
      "Total amount for products bought = 30\n",
      "Enter name of product: Sugar\n",
      "The price of Sugar is 8 and we have 4 left\n",
      "quantity bought? 2\n",
      "Amount of Sugar bought = 16\n",
      "Total amount for products bought = 46\n"
     ]
    }
   ],
   "source": [
    "# Extend the online store program to allow users to \"purchase\" products by specifying the product name and the quantity they \n",
    "# want to buy and Update the inventory accordingly and display the total cost of the purchase\n",
    "Store_Inventory = {'Milk':(10, 5),'Sugar':(8, 4),'Soap':(12, 3),'Chips':(10, 3),'Chocolate':(7, 7),'tea':(9, 4),'Rice':(9, 2),\n",
    "                  'Custard':(12, 6),'Drink':(8, 6),'Water':(5, 15)}\n",
    "CumAmount = 0\n",
    "Count = 0\n",
    "for product, j in Store_Inventory.items():\n",
    "    productName = input('Enter name of product: ')\n",
    "    if productName == product:\n",
    "        Product = Store_Inventory[product]\n",
    "        Price = Product[0]\n",
    "        quantity = Product[1]\n",
    "        #input a product name, and display its price and availability\n",
    "        print (f'The price of {product} is {Price} and we have {quantity} left')\n",
    "        QtyBought = int(input('quantity bought? '))\n",
    "        PriceB = Price\n",
    "        Amount = QtyBought * PriceB\n",
    "        #Count = quantity - QtyBought\n",
    "        print (f'Amount of {product} bought = {Amount}')\n",
    "        # Update the inventory accordingly and display the total cost of the purchase\n",
    "        CumAmount += Amount\n",
    "        print (f'Total amount for products bought = {CumAmount}')\n",
    "    else:\n",
    "        print(\"The product you want is not available\")\n",
    "    #CumAmount += Amount\n",
    "    #print (f'Total amount for products bought = {CumAmount}')"
   ]
  },
  {
   "cell_type": "code",
   "execution_count": 3,
   "id": "fa6c030b",
   "metadata": {},
   "outputs": [
    {
     "data": {
      "text/plain": [
       "(1, 2)"
      ]
     },
     "execution_count": 3,
     "metadata": {},
     "output_type": "execute_result"
    }
   ],
   "source": [
    "x = (1,2,3,4,5)\n",
    "x[0:2]"
   ]
  },
  {
   "cell_type": "code",
   "execution_count": 5,
   "id": "f81bf601",
   "metadata": {},
   "outputs": [],
   "source": [
    "#create 2 sets"
   ]
  },
  {
   "cell_type": "code",
   "execution_count": 6,
   "id": "532e4359",
   "metadata": {},
   "outputs": [],
   "source": [
    "set_one = {23,45,67,97,45}\n",
    "set_two = {23,78,90,67,109}"
   ]
  },
  {
   "cell_type": "code",
   "execution_count": 9,
   "id": "bcf3820c",
   "metadata": {},
   "outputs": [
    {
     "name": "stdout",
     "output_type": "stream",
     "text": [
      "{97, 67, 45, 109, 78, 23, 90}\n"
     ]
    }
   ],
   "source": [
    "#Union of set\n",
    "set_three = set_one.union(set_two)\n",
    "print(set_three)"
   ]
  },
  {
   "cell_type": "code",
   "execution_count": 10,
   "id": "b2cd17c8",
   "metadata": {},
   "outputs": [
    {
     "name": "stdout",
     "output_type": "stream",
     "text": [
      "{67, 23}\n"
     ]
    }
   ],
   "source": [
    "#intersection of set\n",
    "set_four = set_one.intersection(set_two)\n",
    "print(set_four)"
   ]
  },
  {
   "cell_type": "code",
   "execution_count": 8,
   "id": "b6bc5756",
   "metadata": {},
   "outputs": [
    {
     "name": "stdout",
     "output_type": "stream",
     "text": [
      "Enter new glossary word: Laptop\n",
      "Enter definition of the word: A small computer you can use on your lap\n",
      "Laptop has been added to the glossary with the definition A small computer you can use on your lap\n"
     ]
    }
   ],
   "source": [
    "# Create an empty glossary dictionary\n",
    "glossary_dict = {}\n",
    "\n",
    "#  Allow users to add new words and their definitions to the glossary.\n",
    "def update_dict(new_word, new_meaning):\n",
    "    new_word = input(\"Enter new glossary word: \")\n",
    "    new_meaning = input(\"Enter definition of the word: \")\n",
    "    glossary_dict[new_word] = new_meaning\n",
    "    print(f'{new_word} has been added to the glossary with the definition {new_meaning}')\n",
    "update_dict(\"word\",\"definition\")"
   ]
  },
  {
   "cell_type": "code",
   "execution_count": 9,
   "id": "fa78b3bf",
   "metadata": {},
   "outputs": [
    {
     "data": {
      "text/plain": [
       "{'Laptop': 'A small computer you can use on your lap'}"
      ]
     },
     "execution_count": 9,
     "metadata": {},
     "output_type": "execute_result"
    }
   ],
   "source": [
    "glossary_dict"
   ]
  },
  {
   "cell_type": "code",
   "execution_count": 11,
   "id": "a1b37064",
   "metadata": {},
   "outputs": [
    {
     "name": "stdout",
     "output_type": "stream",
     "text": [
      "Type in the word you want to be defined: book\n",
      "Word is not found\n"
     ]
    }
   ],
   "source": [
    "search = input(\"Type in the word you want to be defined: \")\n",
    "for word, meaning in glossary_dict.items():\n",
    "    if search == word:\n",
    "        print(f'\\nThe meaning of {search} is {meaning}')\n",
    "    else:\n",
    "        print(\"Word is not found\")"
   ]
  },
  {
   "cell_type": "code",
   "execution_count": 3,
   "id": "77311c26",
   "metadata": {},
   "outputs": [
    {
     "name": "stdout",
     "output_type": "stream",
     "text": [
      "Enter applicant's age: 4\n",
      "Enter applicant's vaccination status (Y/N): N\n",
      "you are eligible\n"
     ]
    }
   ],
   "source": [
    "#nested conditional\n",
    "#nested if statement\n",
    "age = int(input(\"Enter applicant's age: \"))\n",
    "vaccinated = input(\"Enter applicant's vaccination status (Y/N): \")\n",
    "if age < 5:\n",
    "    if vaccinated == \"N\":\n",
    "        print(\"you are eligible\")\n",
    "    else:\n",
    "        vaccinated == \"Y\"\n",
    "        print(\"you have been vaccinated\")\n",
    "else:\n",
    "    print(\"you are not eligible\")"
   ]
  },
  {
   "cell_type": "code",
   "execution_count": 4,
   "id": "f557884a",
   "metadata": {},
   "outputs": [
    {
     "name": "stdout",
     "output_type": "stream",
     "text": [
      "🤔\n"
     ]
    }
   ],
   "source": [
    "print(\"\\U0001f914\")"
   ]
  },
  {
   "cell_type": "code",
   "execution_count": 7,
   "id": "3f4dbf55",
   "metadata": {},
   "outputs": [
    {
     "name": "stdout",
     "output_type": "stream",
     "text": [
      "jan 120\n",
      "feb 135\n",
      "mar 150\n",
      "apr 145\n",
      "may 155\n",
      "jun 160\n",
      "jul 170\n",
      "aug 180\n",
      "sept 190\n",
      "oct 200\n",
      "nov 210\n",
      "dec 220\n"
     ]
    }
   ],
   "source": [
    "revenue = {'months':['jan', 'feb', 'mar', 'apr', 'may','jun', 'jul','aug', 'sept', 'oct','nov', 'dec'],\n",
    "          'monthly_sales': [120, 135, 150, 145, 155, 160, 170, 180, 190, 200, 210, 220]}\n",
    "# Introducing the zip function\n",
    "for month, sales in zip(revenue['months'],revenue['monthly_sales']):\n",
    "    print(month,sales)"
   ]
  },
  {
   "cell_type": "code",
   "execution_count": 11,
   "id": "6f6982ab",
   "metadata": {},
   "outputs": [],
   "source": [
    "import pandas as pd\n",
    "df = pd.DataFrame(revenue)\n",
    "\n",
    "sales_categories = []\n",
    "for index,rows in df.iterrows():\n",
    "    sales = rows['monthly_sales']\n",
    "    if sales < 150:\n",
    "        category = 'Low'\n",
    "    elif sales < 170:\n",
    "        category = 'Medium'\n",
    "    else:\n",
    "        category = 'High'\n",
    "    sales_categories.append(category)\n",
    "    \n",
    "df['sales category'] = sales_categories"
   ]
  },
  {
   "cell_type": "code",
   "execution_count": 12,
   "id": "965fd47f",
   "metadata": {},
   "outputs": [
    {
     "data": {
      "text/html": [
       "<div>\n",
       "<style scoped>\n",
       "    .dataframe tbody tr th:only-of-type {\n",
       "        vertical-align: middle;\n",
       "    }\n",
       "\n",
       "    .dataframe tbody tr th {\n",
       "        vertical-align: top;\n",
       "    }\n",
       "\n",
       "    .dataframe thead th {\n",
       "        text-align: right;\n",
       "    }\n",
       "</style>\n",
       "<table border=\"1\" class=\"dataframe\">\n",
       "  <thead>\n",
       "    <tr style=\"text-align: right;\">\n",
       "      <th></th>\n",
       "      <th>months</th>\n",
       "      <th>monthly_sales</th>\n",
       "      <th>sales category</th>\n",
       "    </tr>\n",
       "  </thead>\n",
       "  <tbody>\n",
       "    <tr>\n",
       "      <th>0</th>\n",
       "      <td>jan</td>\n",
       "      <td>120</td>\n",
       "      <td>Low</td>\n",
       "    </tr>\n",
       "    <tr>\n",
       "      <th>1</th>\n",
       "      <td>feb</td>\n",
       "      <td>135</td>\n",
       "      <td>Low</td>\n",
       "    </tr>\n",
       "    <tr>\n",
       "      <th>2</th>\n",
       "      <td>mar</td>\n",
       "      <td>150</td>\n",
       "      <td>Medium</td>\n",
       "    </tr>\n",
       "    <tr>\n",
       "      <th>3</th>\n",
       "      <td>apr</td>\n",
       "      <td>145</td>\n",
       "      <td>Low</td>\n",
       "    </tr>\n",
       "    <tr>\n",
       "      <th>4</th>\n",
       "      <td>may</td>\n",
       "      <td>155</td>\n",
       "      <td>Medium</td>\n",
       "    </tr>\n",
       "    <tr>\n",
       "      <th>5</th>\n",
       "      <td>jun</td>\n",
       "      <td>160</td>\n",
       "      <td>Medium</td>\n",
       "    </tr>\n",
       "    <tr>\n",
       "      <th>6</th>\n",
       "      <td>jul</td>\n",
       "      <td>170</td>\n",
       "      <td>High</td>\n",
       "    </tr>\n",
       "    <tr>\n",
       "      <th>7</th>\n",
       "      <td>aug</td>\n",
       "      <td>180</td>\n",
       "      <td>High</td>\n",
       "    </tr>\n",
       "    <tr>\n",
       "      <th>8</th>\n",
       "      <td>sept</td>\n",
       "      <td>190</td>\n",
       "      <td>High</td>\n",
       "    </tr>\n",
       "    <tr>\n",
       "      <th>9</th>\n",
       "      <td>oct</td>\n",
       "      <td>200</td>\n",
       "      <td>High</td>\n",
       "    </tr>\n",
       "    <tr>\n",
       "      <th>10</th>\n",
       "      <td>nov</td>\n",
       "      <td>210</td>\n",
       "      <td>High</td>\n",
       "    </tr>\n",
       "    <tr>\n",
       "      <th>11</th>\n",
       "      <td>dec</td>\n",
       "      <td>220</td>\n",
       "      <td>High</td>\n",
       "    </tr>\n",
       "  </tbody>\n",
       "</table>\n",
       "</div>"
      ],
      "text/plain": [
       "   months  monthly_sales sales category\n",
       "0     jan            120            Low\n",
       "1     feb            135            Low\n",
       "2     mar            150         Medium\n",
       "3     apr            145            Low\n",
       "4     may            155         Medium\n",
       "5     jun            160         Medium\n",
       "6     jul            170           High\n",
       "7     aug            180           High\n",
       "8    sept            190           High\n",
       "9     oct            200           High\n",
       "10    nov            210           High\n",
       "11    dec            220           High"
      ]
     },
     "execution_count": 12,
     "metadata": {},
     "output_type": "execute_result"
    }
   ],
   "source": [
    "df"
   ]
  },
  {
   "cell_type": "code",
   "execution_count": 1,
   "id": "74172e84",
   "metadata": {},
   "outputs": [],
   "source": [
    "#lambda function"
   ]
  },
  {
   "cell_type": "code",
   "execution_count": 4,
   "id": "d4048699",
   "metadata": {},
   "outputs": [],
   "source": [
    "a = lambda x,y : x ** (1/y)"
   ]
  },
  {
   "cell_type": "code",
   "execution_count": 5,
   "id": "9fb6e948",
   "metadata": {},
   "outputs": [
    {
     "data": {
      "text/plain": [
       "1.148698354997035"
      ]
     },
     "execution_count": 5,
     "metadata": {},
     "output_type": "execute_result"
    }
   ],
   "source": [
    "a(2,5)"
   ]
  },
  {
   "cell_type": "code",
   "execution_count": 30,
   "id": "cef6fe14",
   "metadata": {},
   "outputs": [],
   "source": [
    "#creating a for loop so that readers can access author by typing in the book titles using functions\n",
    "LibraryCat = {'To kill a mockingbird':'Harper Lee','Gone with the wind':'Margaret Mitchell','As I lay dying':'William Faulkner',\n",
    "      'The grapes of wrath':'John Steinbeck','The sun also rises':'Ernest Hemingway','Absalom, absalom!':'William Faulkner',\n",
    "      'The house of mirth':'Edith Wharton','A time to kill':'John Grisham','Sarah,plain and tell':'Patricia MacLachlan'}\n",
    "\n",
    "def librarycat(Search):\n",
    "    #Search = input('Enter book title: ')\n",
    "    for booktitles,authors in LibraryCat.items():\n",
    "        if Search == booktitles:\n",
    "            print(f'author is: {authors}')\n",
    "            break\n",
    "    else:\n",
    "        print(\"booktitle is not in LC\")"
   ]
  },
  {
   "cell_type": "code",
   "execution_count": 31,
   "id": "6c167703",
   "metadata": {},
   "outputs": [
    {
     "name": "stdout",
     "output_type": "stream",
     "text": [
      "booktitle is not in LC\n"
     ]
    }
   ],
   "source": [
    "librarycat(\"In the early hours\")"
   ]
  },
  {
   "cell_type": "code",
   "execution_count": 33,
   "id": "9802c7ef",
   "metadata": {},
   "outputs": [],
   "source": [
    "# allow users to add new books to the catalog by providing the title and author using functions.\n",
    "def updateCat(new_book):\n",
    "    #new_book = input('Enter title of book: ')\n",
    "    new_author = input('Enter name of author: ')\n",
    "    LibraryCat[new_book] = new_author\n",
    "    print(f'The name of new book added is: {new_book} by {new_author}')"
   ]
  },
  {
   "cell_type": "code",
   "execution_count": 37,
   "id": "2e8f77d9",
   "metadata": {},
   "outputs": [
    {
     "name": "stdout",
     "output_type": "stream",
     "text": [
      "Enter name of author: Khurram Murad\n",
      "The name of new book added is: In the early hours by Khurram Murad\n"
     ]
    }
   ],
   "source": [
    "updateCat(\"In the early hours\")"
   ]
  },
  {
   "cell_type": "code",
   "execution_count": 38,
   "id": "d00c0741",
   "metadata": {},
   "outputs": [
    {
     "name": "stdout",
     "output_type": "stream",
     "text": [
      "Enter name of author: Bolaji Abdullahi\n",
      "The name of new book added is: Sweet sixteen by Bolaji Abdullahi\n"
     ]
    }
   ],
   "source": [
    "updateCat(\"Sweet sixteen\")"
   ]
  },
  {
   "cell_type": "code",
   "execution_count": 39,
   "id": "890bbec6",
   "metadata": {},
   "outputs": [
    {
     "data": {
      "text/plain": [
       "{'To kill a mockingbird': 'Harper Lee',\n",
       " 'Gone with the wind': 'Margaret Mitchell',\n",
       " 'As I lay dying': 'William Faulkner',\n",
       " 'The grapes of wrath': 'John Steinbeck',\n",
       " 'The sun also rises': 'Ernest Hemingway',\n",
       " 'Absalom, absalom!': 'William Faulkner',\n",
       " 'The house of mirth': 'Edith Wharton',\n",
       " 'A time to kill': 'John Grisham',\n",
       " 'Sarah,plain and tell': 'Patricia MacLachlan',\n",
       " 'In the early hours': 'Khurram Murad',\n",
       " 'Sweet sixteen': 'Bolaji Abdullahi'}"
      ]
     },
     "execution_count": 39,
     "metadata": {},
     "output_type": "execute_result"
    }
   ],
   "source": [
    "LibraryCat"
   ]
  },
  {
   "cell_type": "code",
   "execution_count": 47,
   "id": "58e943d1",
   "metadata": {},
   "outputs": [],
   "source": [
    "LibraryCat1 = {'To kill a mockingbird':'Harper Lee','Gone with the wind':'Margaret Mitchell','As I lay dying':'William Faulkner',\n",
    "      'The grapes of wrath':'John Steinbeck','The sun also rises':'Ernest Hemingway','Absalom, absalom!':'William Faulkner',\n",
    "      'The house of mirth':'Edith Wharton','A time to kill':'John Grisham','Sarah,plain and tell':'Patricia MacLachlan'}\n",
    "\n",
    "def librarycati(Search, **Update):\n",
    "    #Search = input('Enter book title: ')\n",
    "    for booktitles,authors in LibraryCat1.items():\n",
    "        if Search == booktitles:\n",
    "            print(f'author is: {authors}')\n",
    "            break\n",
    "    else:\n",
    "        print(\"booktitle is not in LC\")"
   ]
  },
  {
   "cell_type": "code",
   "execution_count": 48,
   "id": "19153a90",
   "metadata": {},
   "outputs": [
    {
     "ename": "SyntaxError",
     "evalue": "invalid syntax. Perhaps you forgot a comma? (2602207516.py, line 1)",
     "output_type": "error",
     "traceback": [
      "\u001b[1;36m  Cell \u001b[1;32mIn[48], line 1\u001b[1;36m\u001b[0m\n\u001b[1;33m    librarycati(\"Search\", In the early hours = \"Khurram Murad\")\u001b[0m\n\u001b[1;37m                          ^\u001b[0m\n\u001b[1;31mSyntaxError\u001b[0m\u001b[1;31m:\u001b[0m invalid syntax. Perhaps you forgot a comma?\n"
     ]
    }
   ],
   "source": [
    "librarycati(\"Search\", In the early hours = \"Khurram Murad\")"
   ]
  },
  {
   "cell_type": "code",
   "execution_count": 49,
   "id": "0bd0bc1e",
   "metadata": {},
   "outputs": [],
   "source": [
    "def myfunc(*a):\n",
    "  return len(a)"
   ]
  },
  {
   "cell_type": "code",
   "execution_count": 61,
   "id": "c33f52e0",
   "metadata": {},
   "outputs": [
    {
     "data": {
      "text/plain": [
       "(5, 6)"
      ]
     },
     "execution_count": 61,
     "metadata": {},
     "output_type": "execute_result"
    }
   ],
   "source": [
    "tuple(map(myfunc,(\"apple\",\"cherry\")))"
   ]
  },
  {
   "cell_type": "code",
   "execution_count": 52,
   "id": "3458c066",
   "metadata": {},
   "outputs": [],
   "source": [
    "x = map(myfunc,('apple', 'banana', 'cherry'))"
   ]
  },
  {
   "cell_type": "code",
   "execution_count": 62,
   "id": "bb1dd316",
   "metadata": {},
   "outputs": [
    {
     "data": {
      "text/plain": [
       "(6, 6, 5)"
      ]
     },
     "execution_count": 62,
     "metadata": {},
     "output_type": "execute_result"
    }
   ],
   "source": [
    "fruits = (\"orange\",\"pawpaw\",\"lemon\")\n",
    "tuple(map(lambda a: len(a), fruits))"
   ]
  },
  {
   "cell_type": "code",
   "execution_count": 63,
   "id": "d94f942a",
   "metadata": {},
   "outputs": [
    {
     "data": {
      "text/plain": [
       "('orange', 'pawpaw')"
      ]
     },
     "execution_count": 63,
     "metadata": {},
     "output_type": "execute_result"
    }
   ],
   "source": [
    "fruits = (\"orange\",\"pawpaw\",\"lemon\")\n",
    "tuple(filter(lambda a: len(a) > 5, fruits))"
   ]
  },
  {
   "cell_type": "code",
   "execution_count": 64,
   "id": "1bb9abca",
   "metadata": {},
   "outputs": [
    {
     "data": {
      "text/plain": [
       "(True, True, False)"
      ]
     },
     "execution_count": 64,
     "metadata": {},
     "output_type": "execute_result"
    }
   ],
   "source": [
    "#fruits = (\"orange\",\"pawpaw\",\"lemon\")\n",
    "tuple(map(lambda a: len(a) > 5, fruits))"
   ]
  },
  {
   "cell_type": "code",
   "execution_count": 65,
   "id": "06a2b5a8",
   "metadata": {},
   "outputs": [],
   "source": [
    "def root(x,y):\n",
    "    return x**(1/y)"
   ]
  },
  {
   "cell_type": "code",
   "execution_count": 66,
   "id": "167f0d5a",
   "metadata": {},
   "outputs": [],
   "source": [
    "root = lambda x, y: x ** (1/y)"
   ]
  },
  {
   "cell_type": "code",
   "execution_count": 67,
   "id": "3b511d86",
   "metadata": {},
   "outputs": [
    {
     "data": {
      "text/plain": [
       "5.0"
      ]
     },
     "execution_count": 67,
     "metadata": {},
     "output_type": "execute_result"
    }
   ],
   "source": [
    "root(25,2)"
   ]
  },
  {
   "cell_type": "code",
   "execution_count": 68,
   "id": "da9d0478",
   "metadata": {},
   "outputs": [
    {
     "data": {
      "text/plain": [
       "2.0"
      ]
     },
     "execution_count": 68,
     "metadata": {},
     "output_type": "execute_result"
    }
   ],
   "source": [
    "root(8,3)"
   ]
  },
  {
   "cell_type": "code",
   "execution_count": 104,
   "id": "48e70c39",
   "metadata": {},
   "outputs": [],
   "source": [
    "ab = [6,2,3,9,1,5]\n",
    "srt = list(map(lambda x: x, ab))"
   ]
  },
  {
   "cell_type": "code",
   "execution_count": 105,
   "id": "fa644816",
   "metadata": {},
   "outputs": [
    {
     "name": "stdout",
     "output_type": "stream",
     "text": [
      "[1, 2, 3, 5, 6, 9]\n"
     ]
    }
   ],
   "source": [
    "srt.sort()\n",
    "print(srt)"
   ]
  },
  {
   "cell_type": "code",
   "execution_count": 106,
   "id": "5128aa33",
   "metadata": {},
   "outputs": [],
   "source": [
    "list1 = [2, 6, 8, 10, 11, 4, 12, 7, 13, 17, 0, 3, 21]\n"
   ]
  },
  {
   "cell_type": "code",
   "execution_count": 109,
   "id": "7bec0e26",
   "metadata": {},
   "outputs": [],
   "source": [
    "greater9 = list(filter(lambda a:a > 9, list1))"
   ]
  },
  {
   "cell_type": "code",
   "execution_count": 110,
   "id": "584c99b3",
   "metadata": {},
   "outputs": [
    {
     "data": {
      "text/plain": [
       "[10, 11, 12, 13, 17, 21]"
      ]
     },
     "execution_count": 110,
     "metadata": {},
     "output_type": "execute_result"
    }
   ],
   "source": [
    "greater9"
   ]
  },
  {
   "cell_type": "code",
   "execution_count": 111,
   "id": "56296bd5",
   "metadata": {},
   "outputs": [],
   "source": [
    "list2 = [2, 6, 8, 10, 11, 4, 12, 7, 13, 17, 0, 3, 21]\n",
    "mod2 = list(map(lambda a: a % 2, list2))"
   ]
  },
  {
   "cell_type": "code",
   "execution_count": 112,
   "id": "282e7dd4",
   "metadata": {},
   "outputs": [
    {
     "data": {
      "text/plain": [
       "[0, 0, 0, 0, 1, 0, 0, 1, 1, 1, 0, 1, 1]"
      ]
     },
     "execution_count": 112,
     "metadata": {},
     "output_type": "execute_result"
    }
   ],
   "source": [
    "mod2"
   ]
  },
  {
   "cell_type": "code",
   "execution_count": null,
   "id": "d6a12d62",
   "metadata": {},
   "outputs": [],
   "source": []
  },
  {
   "cell_type": "code",
   "execution_count": 2,
   "id": "9f45a9f5",
   "metadata": {},
   "outputs": [],
   "source": [
    "def get_quotient(numerator, denominator):\n",
    "    try:\n",
    "        quotient = numerator/denominator\n",
    "        return quotient\n",
    "    except:\n",
    "        return (\"function not working\")"
   ]
  },
  {
   "cell_type": "code",
   "execution_count": 3,
   "id": "6ebaf007",
   "metadata": {},
   "outputs": [
    {
     "data": {
      "text/plain": [
       "'function not working'"
      ]
     },
     "execution_count": 3,
     "metadata": {},
     "output_type": "execute_result"
    }
   ],
   "source": [
    "get_quotient(20,0)"
   ]
  },
  {
   "cell_type": "code",
   "execution_count": 5,
   "id": "26f10620",
   "metadata": {},
   "outputs": [],
   "source": [
    "def get_quotient(numerator, denominator):\n",
    "    try:\n",
    "        quotient = numerator/denominator\n",
    "        return quotient\n",
    "    except Exception as e:\n",
    "        return e"
   ]
  },
  {
   "cell_type": "code",
   "execution_count": 6,
   "id": "653edd64",
   "metadata": {},
   "outputs": [
    {
     "data": {
      "text/plain": [
       "ZeroDivisionError('division by zero')"
      ]
     },
     "execution_count": 6,
     "metadata": {},
     "output_type": "execute_result"
    }
   ],
   "source": [
    "get_quotient(20,0)"
   ]
  },
  {
   "cell_type": "code",
   "execution_count": 7,
   "id": "72b6fec7",
   "metadata": {},
   "outputs": [],
   "source": [
    "import data_module as dm"
   ]
  },
  {
   "cell_type": "code",
   "execution_count": 9,
   "id": "3bf213ee",
   "metadata": {},
   "outputs": [
    {
     "data": {
      "text/plain": [
       "13.0"
      ]
     },
     "execution_count": 9,
     "metadata": {},
     "output_type": "execute_result"
    }
   ],
   "source": [
    "dm.calculate_mean([12,13,14,11,13,15])"
   ]
  },
  {
   "cell_type": "code",
   "execution_count": 10,
   "id": "0e81d666",
   "metadata": {},
   "outputs": [],
   "source": [
    "from data_module import calculate_mean"
   ]
  },
  {
   "cell_type": "code",
   "execution_count": 11,
   "id": "189ccbf2",
   "metadata": {},
   "outputs": [
    {
     "data": {
      "text/plain": [
       "13.0"
      ]
     },
     "execution_count": 11,
     "metadata": {},
     "output_type": "execute_result"
    }
   ],
   "source": [
    "calculate_mean([12,13,14,11,13,15])"
   ]
  },
  {
   "cell_type": "code",
   "execution_count": 2,
   "id": "47334928",
   "metadata": {},
   "outputs": [],
   "source": [
    "import math"
   ]
  },
  {
   "cell_type": "code",
   "execution_count": 5,
   "id": "27805cf6",
   "metadata": {},
   "outputs": [
    {
     "name": "stdout",
     "output_type": "stream",
     "text": [
      "The square root of x is 15.0\n"
     ]
    }
   ],
   "source": [
    "x = math.sqrt(225)\n",
    "print(f\"The square root of x is {x}\")"
   ]
  },
  {
   "cell_type": "code",
   "execution_count": 6,
   "id": "8abb7337",
   "metadata": {},
   "outputs": [
    {
     "name": "stdout",
     "output_type": "stream",
     "text": [
      "Functions in the math module: ['__doc__', '__loader__', '__name__', '__package__', '__spec__', 'acos', 'acosh', 'asin', 'asinh', 'atan', 'atan2', 'atanh', 'cbrt', 'ceil', 'comb', 'copysign', 'cos', 'cosh', 'degrees', 'dist', 'e', 'erf', 'erfc', 'exp', 'exp2', 'expm1', 'fabs', 'factorial', 'floor', 'fmod', 'frexp', 'fsum', 'gamma', 'gcd', 'hypot', 'inf', 'isclose', 'isfinite', 'isinf', 'isnan', 'isqrt', 'lcm', 'ldexp', 'lgamma', 'log', 'log10', 'log1p', 'log2', 'modf', 'nan', 'nextafter', 'perm', 'pi', 'pow', 'prod', 'radians', 'remainder', 'sin', 'sinh', 'sqrt', 'tan', 'tanh', 'tau', 'trunc', 'ulp']\n"
     ]
    }
   ],
   "source": [
    "list_all= dir(math)\n",
    "print('Functions in the math module: {}'.format(list_all))"
   ]
  },
  {
   "cell_type": "code",
   "execution_count": 8,
   "id": "f27f357a",
   "metadata": {},
   "outputs": [
    {
     "data": {
      "text/plain": [
       "25.0"
      ]
     },
     "execution_count": 8,
     "metadata": {},
     "output_type": "execute_result"
    }
   ],
   "source": [
    "math.pow(5,2)"
   ]
  },
  {
   "cell_type": "code",
   "execution_count": 9,
   "id": "82099b59",
   "metadata": {},
   "outputs": [],
   "source": [
    "height  = [1.8, 1.5, 1.6, 2.0, 1.3]\n",
    "weight = [56.9, 89.6, 90.8, 30.0, 67.7]\n",
    "# bmi = weight /height**2"
   ]
  },
  {
   "cell_type": "code",
   "execution_count": 10,
   "id": "229f534f",
   "metadata": {},
   "outputs": [
    {
     "data": {
      "text/plain": [
       "17.56"
      ]
     },
     "execution_count": 10,
     "metadata": {},
     "output_type": "execute_result"
    }
   ],
   "source": [
    "round(weight[0]/height[0]**2,2)"
   ]
  },
  {
   "cell_type": "code",
   "execution_count": 11,
   "id": "1edba41e",
   "metadata": {},
   "outputs": [],
   "source": [
    "bmi = [round(w/h**2,2) for w,h in zip(weight,height)]"
   ]
  },
  {
   "cell_type": "code",
   "execution_count": 12,
   "id": "5f607446",
   "metadata": {},
   "outputs": [
    {
     "data": {
      "text/plain": [
       "[17.56, 39.82, 35.47, 7.5, 40.06]"
      ]
     },
     "execution_count": 12,
     "metadata": {},
     "output_type": "execute_result"
    }
   ],
   "source": [
    "bmi"
   ]
  },
  {
   "cell_type": "code",
   "execution_count": 19,
   "id": "8eade1da",
   "metadata": {},
   "outputs": [],
   "source": [
    "from numpy import array, round\n",
    "np_height = array(height)"
   ]
  },
  {
   "cell_type": "code",
   "execution_count": 21,
   "id": "b36ae657",
   "metadata": {},
   "outputs": [],
   "source": [
    "np_weight = array(weight)\n",
    "np_bmi = round(np_weight/(np_height **2), 2)"
   ]
  },
  {
   "cell_type": "code",
   "execution_count": 22,
   "id": "e8d14214",
   "metadata": {},
   "outputs": [
    {
     "data": {
      "text/plain": [
       "array([17.56, 39.82, 35.47,  7.5 , 40.06])"
      ]
     },
     "execution_count": 22,
     "metadata": {},
     "output_type": "execute_result"
    }
   ],
   "source": [
    "np_bmi"
   ]
  },
  {
   "cell_type": "code",
   "execution_count": 23,
   "id": "81650042",
   "metadata": {},
   "outputs": [
    {
     "data": {
      "text/plain": [
       "array([39.82, 35.47,  7.5 ])"
      ]
     },
     "execution_count": 23,
     "metadata": {},
     "output_type": "execute_result"
    }
   ],
   "source": [
    "np_bmi[1:4]"
   ]
  },
  {
   "cell_type": "code",
   "execution_count": 24,
   "id": "526e1e40",
   "metadata": {},
   "outputs": [
    {
     "data": {
      "text/plain": [
       "28.082"
      ]
     },
     "execution_count": 24,
     "metadata": {},
     "output_type": "execute_result"
    }
   ],
   "source": [
    "np_bmi.mean()"
   ]
  },
  {
   "cell_type": "code",
   "execution_count": 25,
   "id": "c0fcd6c4",
   "metadata": {},
   "outputs": [
    {
     "data": {
      "text/plain": [
       "13.192171011626556"
      ]
     },
     "execution_count": 25,
     "metadata": {},
     "output_type": "execute_result"
    }
   ],
   "source": [
    "np_bmi.std()"
   ]
  },
  {
   "cell_type": "code",
   "execution_count": 26,
   "id": "e434ed2e",
   "metadata": {},
   "outputs": [
    {
     "data": {
      "text/plain": [
       "(5,)"
      ]
     },
     "execution_count": 26,
     "metadata": {},
     "output_type": "execute_result"
    }
   ],
   "source": [
    "np_bmi.shape"
   ]
  },
  {
   "cell_type": "code",
   "execution_count": 27,
   "id": "a514b005",
   "metadata": {},
   "outputs": [
    {
     "data": {
      "text/plain": [
       "numpy.ndarray"
      ]
     },
     "execution_count": 27,
     "metadata": {},
     "output_type": "execute_result"
    }
   ],
   "source": [
    "type(np_bmi)"
   ]
  },
  {
   "cell_type": "code",
   "execution_count": 28,
   "id": "40b8719a",
   "metadata": {},
   "outputs": [],
   "source": [
    "# [120, 135, 150, 145, 155, 160, 170, 180, 190, 200, 210, 220]\n",
    "multi_array = array([[120, 135, 150],\n",
    "                       [145, 155, 160],\n",
    "                       [170, 180, 190],\n",
    "                       [200, 210, 220]])"
   ]
  },
  {
   "cell_type": "code",
   "execution_count": 29,
   "id": "46c0506c",
   "metadata": {},
   "outputs": [
    {
     "data": {
      "text/plain": [
       "array([[120, 135, 150],\n",
       "       [145, 155, 160],\n",
       "       [170, 180, 190],\n",
       "       [200, 210, 220]])"
      ]
     },
     "execution_count": 29,
     "metadata": {},
     "output_type": "execute_result"
    }
   ],
   "source": [
    "multi_array"
   ]
  },
  {
   "cell_type": "code",
   "execution_count": 30,
   "id": "331da7ba",
   "metadata": {},
   "outputs": [],
   "source": [
    "# Data Exploration:\n",
    "\n",
    "'''Problem: You have a dataset containing information about customer orders. \n",
    "Use Python to calculate the total number of orders, the average order value, and the most common product purchased.'''\n",
    "\n",
    "supermarket_data = [\n",
    "    {'TransactionID': 1, 'Product': 'Milk', 'Price': 2.99},\n",
    "    {'TransactionID': 2, 'Product': 'Bread', 'Price': 1.99},\n",
    "    {'TransactionID': 3, 'Product': None, 'Price': 3.49},\n",
    "    {'TransactionID': 4, 'Product': 'Eggs', 'Price': 1.79},\n",
    "    {'TransactionID': 5, 'Product': 'Milk', 'Price': 4.99},\n",
    "    {'TransactionID': 6, 'Product': 'Bread', 'Price': 4.99},\n",
    "    {'TransactionID': 7, 'Product': 'Milk', 'Price': 4.99}\n",
    "]"
   ]
  },
  {
   "cell_type": "code",
   "execution_count": 50,
   "id": "174a499a",
   "metadata": {},
   "outputs": [
    {
     "name": "stdout",
     "output_type": "stream",
     "text": [
      "7\n"
     ]
    }
   ],
   "source": [
    "count = 0\n",
    "for order in supermarket_data:\n",
    "    count += 1\n",
    "print(count)"
   ]
  },
  {
   "cell_type": "code",
   "execution_count": 51,
   "id": "e3334034",
   "metadata": {},
   "outputs": [
    {
     "name": "stdout",
     "output_type": "stream",
     "text": [
      "25.230000000000004\n"
     ]
    }
   ],
   "source": [
    "total_price = 0\n",
    "for price in supermarket_data:\n",
    "    total_price += price[\"Price\"]\n",
    "print(total_price)"
   ]
  },
  {
   "cell_type": "code",
   "execution_count": 53,
   "id": "fc0741bb",
   "metadata": {},
   "outputs": [
    {
     "name": "stdout",
     "output_type": "stream",
     "text": [
      "3.604285714285715\n"
     ]
    }
   ],
   "source": [
    "average = total_price/count\n",
    "print(average)"
   ]
  },
  {
   "cell_type": "code",
   "execution_count": 67,
   "id": "84c6b655",
   "metadata": {},
   "outputs": [
    {
     "name": "stdout",
     "output_type": "stream",
     "text": [
      " Milk is the most purchased\n"
     ]
    }
   ],
   "source": [
    "product_counts = {}\n",
    "for product in supermarket_data:\n",
    "    product = product[\"Product\"]\n",
    "    if product in product_counts:\n",
    "        product_counts[product] += 1\n",
    "    else:\n",
    "        product_counts[product] = 1\n",
    "print(f' {product} is the most purchased')"
   ]
  },
  {
   "cell_type": "code",
   "execution_count": 68,
   "id": "69ce8ac9",
   "metadata": {},
   "outputs": [
    {
     "data": {
      "text/plain": [
       "{'Milk': 3, 'Bread': 2, None: 1, 'Eggs': 1}"
      ]
     },
     "execution_count": 68,
     "metadata": {},
     "output_type": "execute_result"
    }
   ],
   "source": [
    "product_counts"
   ]
  },
  {
   "cell_type": "code",
   "execution_count": 1,
   "id": "f7cbb71d",
   "metadata": {},
   "outputs": [],
   "source": [
    "#Data Cleaning:\n",
    "\n",
    "'''Problem: Your dataset has missing values in a column. \n",
    "Write a Python script to identify and count the missing values in that column.'''\n",
    "\n",
    "supermarket_data = [\n",
    "    {'TransactionID': 1, 'Product': 'Milk', 'Price': 2.99},\n",
    "    {'TransactionID': 2, 'Product': 'Bread', 'Price': 1.99},\n",
    "    {'TransactionID': 3, 'Product': None, 'Price': 3.49},\n",
    "    {'TransactionID': 4, 'Product': 'Eggs', 'Price': 1.79},\n",
    "    {'TransactionID': 5, 'Product': 'Milk', 'Price': 4.99},\n",
    "    {'TransactionID': 6, 'Product': None, 'Price': 4.99},\n",
    "    {'TransactionID': 7, 'Product': 'Milk', 'Price': 4.99}\n",
    "]"
   ]
  },
  {
   "cell_type": "code",
   "execution_count": 10,
   "id": "2b992f96",
   "metadata": {},
   "outputs": [
    {
     "name": "stdout",
     "output_type": "stream",
     "text": [
      "2\n"
     ]
    }
   ],
   "source": [
    "missing_values = 0\n",
    "for product in supermarket_data:\n",
    "    product = product[\"Product\"]\n",
    "    if product == None:\n",
    "        missing_values += 1\n",
    "print (missing_values)"
   ]
  },
  {
   "cell_type": "code",
   "execution_count": 11,
   "id": "2cf30f2f",
   "metadata": {},
   "outputs": [],
   "source": [
    "#Data Preprocessing:\n",
    "\n",
    "'''Problem: You have a dataset with a 'date' column in the format 'yyyy-mm-dd'. \n",
    "Write a Python function to extract the year and month from the date and store them in separate lists.'''\n",
    "\n",
    "dataset = [\n",
    "    {'ID': 1, 'Date': '2023-04-15', 'Value': 42},\n",
    "    {'ID': 2, 'Date': '2023-05-20', 'Value': 56},\n",
    "    {'ID': 3, 'Date': '2023-04-02', 'Value': 34},\n",
    "    {'ID': 4, 'Date': '2023-06-10', 'Value': 78},\n",
    "    {'ID': 5, 'Date': '2023-05-12', 'Value': 65},\n",
    "]"
   ]
  },
  {
   "cell_type": "code",
   "execution_count": 15,
   "id": "3b25532c",
   "metadata": {},
   "outputs": [],
   "source": [
    "def extract_year_and_month (data, date_column):\n",
    "    years = []\n",
    "    months =[]\n",
    "    \n",
    "    for entry in data:\n",
    "        date = entry.get(date_column)\n",
    "        if date:\n",
    "            year,month,*_ = date.split('-')\n",
    "            years.append(year)\n",
    "            months.append(month)\n",
    "    return years, months"
   ]
  },
  {
   "cell_type": "code",
   "execution_count": 16,
   "id": "9185654a",
   "metadata": {},
   "outputs": [],
   "source": [
    "years, months = extract_year_and_month(dataset, 'Date')"
   ]
  },
  {
   "cell_type": "code",
   "execution_count": 17,
   "id": "6de49dad",
   "metadata": {},
   "outputs": [
    {
     "name": "stdout",
     "output_type": "stream",
     "text": [
      "years = ['2023', '2023', '2023', '2023', '2023']\n",
      "months = ['04', '05', '04', '06', '05']\n"
     ]
    }
   ],
   "source": [
    "print(f'years = {years}')\n",
    "print(f'months = {months}')"
   ]
  },
  {
   "cell_type": "code",
   "execution_count": 1,
   "id": "d9702c02",
   "metadata": {},
   "outputs": [],
   "source": [
    "#Data Filtering and Transformation:\n",
    "'''Problem: You have a list of student records as dictionaries. \n",
    "Filter the records of students who scored above a certain threshold and calculate their final grades.'''\n",
    "\n",
    "student_records = [\n",
    "    {'ID': 1, 'Name': 'Alice', 'Math_Score': 85, 'English_Score': 78},\n",
    "    {'ID': 2, 'Name': 'Bob', 'Math_Score': 92, 'English_Score': 88},\n",
    "    {'ID': 3, 'Name': 'Charlie', 'Math_Score': 78, 'English_Score': 95},\n",
    "    {'ID': 4, 'Name': 'David', 'Math_Score': 65, 'English_Score': 72},\n",
    "    {'ID': 5, 'Name': 'Eve', 'Math_Score': 89, 'English_Score': 91},\n",
    "]\n",
    "threshold = 80"
   ]
  },
  {
   "cell_type": "code",
   "execution_count": 2,
   "id": "06634f88",
   "metadata": {},
   "outputs": [
    {
     "name": "stdout",
     "output_type": "stream",
     "text": [
      " Bob has a score greater than 80\n",
      " Eve has a score greater than 80\n"
     ]
    }
   ],
   "source": [
    "for item in student_records:\n",
    "    score1 = item[\"Math_Score\"]\n",
    "    score2 = item[\"English_Score\"]\n",
    "    name = item['Name']\n",
    "    if score1 >= 80 and score2 >= 80:\n",
    "        print (f' {name} has a score greater than 80')"
   ]
  },
  {
   "cell_type": "code",
   "execution_count": 3,
   "id": "90563b55",
   "metadata": {},
   "outputs": [
    {
     "name": "stdout",
     "output_type": "stream",
     "text": [
      " Alice has a total score of: 163\n",
      " Bob has a total score of: 180\n",
      " Charlie has a total score of: 173\n",
      " David has a total score of: 137\n",
      " Eve has a total score of: 180\n"
     ]
    }
   ],
   "source": [
    "for student in student_records:\n",
    "    item1 = student['Math_Score']\n",
    "    item2 = student['English_Score']\n",
    "    name = student['Name']\n",
    "    final_grades = item1 + item2\n",
    "    print (f' {name} has a total score of: {final_grades}')"
   ]
  },
  {
   "cell_type": "code",
   "execution_count": 8,
   "id": "7aca5329",
   "metadata": {},
   "outputs": [
    {
     "name": "stdout",
     "output_type": "stream",
     "text": [
      " Eve has a total score of: 163\n",
      " Eve has a total score of: 180\n",
      " Eve has a total score of: 173\n",
      " Eve has a total score of: 137\n",
      " Eve has a total score of: 180\n"
     ]
    }
   ],
   "source": [
    "for student in student_records:\n",
    "    final_grades = sum(student[values] for values in ['Math_Score','English_Score'])\n",
    "    print (f' {name} has a total score of: {final_grades}')"
   ]
  },
  {
   "cell_type": "code",
   "execution_count": 9,
   "id": "7343ec11",
   "metadata": {},
   "outputs": [],
   "source": [
    "#Numpy\n",
    "import numpy as np"
   ]
  },
  {
   "cell_type": "code",
   "execution_count": 10,
   "id": "6a38d8a5",
   "metadata": {},
   "outputs": [
    {
     "data": {
      "text/plain": [
       "array([[1., 1., 1.],\n",
       "       [1., 1., 1.]])"
      ]
     },
     "execution_count": 10,
     "metadata": {},
     "output_type": "execute_result"
    }
   ],
   "source": [
    "np.ones((2,3))"
   ]
  },
  {
   "cell_type": "code",
   "execution_count": 11,
   "id": "b382f574",
   "metadata": {},
   "outputs": [
    {
     "data": {
      "text/plain": [
       "array([[0., 0., 0.]])"
      ]
     },
     "execution_count": 11,
     "metadata": {},
     "output_type": "execute_result"
    }
   ],
   "source": [
    "np.zeros((1,3))"
   ]
  },
  {
   "cell_type": "code",
   "execution_count": 13,
   "id": "c6640e25",
   "metadata": {},
   "outputs": [
    {
     "data": {
      "text/plain": [
       "array([[0.90397814, 0.60731146, 0.20340369, 0.78034293],\n",
       "       [0.44829573, 0.63314984, 0.3719928 , 0.16422693]])"
      ]
     },
     "execution_count": 13,
     "metadata": {},
     "output_type": "execute_result"
    }
   ],
   "source": [
    "np.random.random((2,4))"
   ]
  },
  {
   "cell_type": "code",
   "execution_count": 14,
   "id": "cabf903e",
   "metadata": {},
   "outputs": [
    {
     "data": {
      "text/plain": [
       "array([[94, 89, 63],\n",
       "       [93, 92, 48],\n",
       "       [92, 94, 56]])"
      ]
     },
     "execution_count": 14,
     "metadata": {},
     "output_type": "execute_result"
    }
   ],
   "source": [
    "ratings = np.array([[94,89,63], [93,92,48], [92,94,56]])\n",
    "\n",
    "ratings"
   ]
  },
  {
   "cell_type": "code",
   "execution_count": 15,
   "id": "2310342f",
   "metadata": {},
   "outputs": [
    {
     "data": {
      "text/plain": [
       "94"
      ]
     },
     "execution_count": 15,
     "metadata": {},
     "output_type": "execute_result"
    }
   ],
   "source": [
    "ratings[0,0]"
   ]
  },
  {
   "cell_type": "code",
   "execution_count": 21,
   "id": "1140f3a7",
   "metadata": {},
   "outputs": [
    {
     "data": {
      "text/plain": [
       "array([[94, 89, 63],\n",
       "       [93, 92, 48]])"
      ]
     },
     "execution_count": 21,
     "metadata": {},
     "output_type": "execute_result"
    }
   ],
   "source": [
    "ratings[0:2]"
   ]
  },
  {
   "cell_type": "code",
   "execution_count": 22,
   "id": "500699cb",
   "metadata": {},
   "outputs": [
    {
     "data": {
      "text/plain": [
       "array([94, 89])"
      ]
     },
     "execution_count": 22,
     "metadata": {},
     "output_type": "execute_result"
    }
   ],
   "source": [
    "ratings[0,:2]"
   ]
  },
  {
   "cell_type": "code",
   "execution_count": 23,
   "id": "801a9134",
   "metadata": {},
   "outputs": [
    {
     "data": {
      "text/plain": [
       "array([[94, 89],\n",
       "       [93, 92]])"
      ]
     },
     "execution_count": 23,
     "metadata": {},
     "output_type": "execute_result"
    }
   ],
   "source": [
    "ratings[0:2,0:2]"
   ]
  },
  {
   "cell_type": "code",
   "execution_count": 24,
   "id": "01ba1bf5",
   "metadata": {},
   "outputs": [
    {
     "data": {
      "text/plain": [
       "array([94, 93, 92, 92, 94])"
      ]
     },
     "execution_count": 24,
     "metadata": {},
     "output_type": "execute_result"
    }
   ],
   "source": [
    "ratings[ratings > 90]"
   ]
  },
  {
   "cell_type": "code",
   "execution_count": 37,
   "id": "4f7f082c",
   "metadata": {},
   "outputs": [
    {
     "name": "stdout",
     "output_type": "stream",
     "text": [
      "[[94 89 63]\n",
      " [93 92 48]\n",
      " [92 94 56]\n",
      " [82 92 96]]\n"
     ]
    }
   ],
   "source": [
    "#adding extra row to an array using 'append' or we say appending to the columns\n",
    "ratings1 = np.append(ratings, [[82,92,96]], axis = 0)\n",
    "print(ratings1)"
   ]
  },
  {
   "cell_type": "code",
   "execution_count": 66,
   "id": "63be62cb",
   "metadata": {},
   "outputs": [
    {
     "name": "stdout",
     "output_type": "stream",
     "text": [
      "[[94 89 63 91]\n",
      " [93 92 48 92]\n",
      " [92 94 56 86]\n",
      " [82 92 96 90]]\n"
     ]
    }
   ],
   "source": [
    "#adding extra column to an array or we say appending to the rows\n",
    "ratings2 = np.append(ratings1, np.array([[91,92,86,90]])\\\n",
    "                               .reshape(4, 1), axis=1)\n",
    "\n",
    "print(ratings2)"
   ]
  },
  {
   "cell_type": "code",
   "execution_count": 65,
   "id": "000aa676",
   "metadata": {},
   "outputs": [
    {
     "data": {
      "text/plain": [
       "array([[94, 89, 63],\n",
       "       [92, 94, 56],\n",
       "       [82, 92, 96]])"
      ]
     },
     "execution_count": 65,
     "metadata": {},
     "output_type": "execute_result"
    }
   ],
   "source": [
    "#deleting row from an array \n",
    "ratings_row_delete = np.delete(ratings1, [1], axis = 0)\n",
    "ratings_row_delete"
   ]
  },
  {
   "cell_type": "code",
   "execution_count": 55,
   "id": "a042491e",
   "metadata": {},
   "outputs": [
    {
     "data": {
      "text/plain": [
       "array([[94, 63, 91],\n",
       "       [93, 48, 92],\n",
       "       [92, 56, 86],\n",
       "       [82, 96, 90]])"
      ]
     },
     "execution_count": 55,
     "metadata": {},
     "output_type": "execute_result"
    }
   ],
   "source": [
    "#deleting column from an array \n",
    "ratings_column_delete = np.delete(ratings2, [1], axis = 1)\n",
    "ratings_column_delete"
   ]
  },
  {
   "cell_type": "code",
   "execution_count": 57,
   "id": "0d766b9e",
   "metadata": {},
   "outputs": [
    {
     "data": {
      "text/plain": [
       "721"
      ]
     },
     "execution_count": 57,
     "metadata": {},
     "output_type": "execute_result"
    }
   ],
   "source": [
    "#sum of all elements in an array\n",
    "ratings.sum()"
   ]
  },
  {
   "cell_type": "code",
   "execution_count": 61,
   "id": "9defea50",
   "metadata": {},
   "outputs": [
    {
     "data": {
      "text/plain": [
       "array([246, 233, 242])"
      ]
     },
     "execution_count": 61,
     "metadata": {},
     "output_type": "execute_result"
    }
   ],
   "source": [
    "#sum of each row\n",
    "rowTotal = ratings.sum(axis = 1)\n",
    "rowTotal"
   ]
  },
  {
   "cell_type": "code",
   "execution_count": 62,
   "id": "993f7037",
   "metadata": {},
   "outputs": [
    {
     "data": {
      "text/plain": [
       "array([279, 275, 167])"
      ]
     },
     "execution_count": 62,
     "metadata": {},
     "output_type": "execute_result"
    }
   ],
   "source": [
    "#sum of each column\n",
    "columnTotal = ratings.sum(axis = 0)\n",
    "columnTotal"
   ]
  },
  {
   "cell_type": "code",
   "execution_count": 67,
   "id": "3c8c76d4",
   "metadata": {},
   "outputs": [
    {
     "data": {
      "text/plain": [
       "array([63, 48, 56])"
      ]
     },
     "execution_count": 67,
     "metadata": {},
     "output_type": "execute_result"
    }
   ],
   "source": [
    "# Min of each row.\n",
    "ratings.min(axis=1)"
   ]
  },
  {
   "cell_type": "code",
   "execution_count": 68,
   "id": "da0462ea",
   "metadata": {},
   "outputs": [
    {
     "data": {
      "text/plain": [
       "array([94, 94, 63])"
      ]
     },
     "execution_count": 68,
     "metadata": {},
     "output_type": "execute_result"
    }
   ],
   "source": [
    "# Max of each column.\n",
    "ratings.max(axis=0)"
   ]
  },
  {
   "cell_type": "code",
   "execution_count": 55,
   "id": "05c41a43",
   "metadata": {},
   "outputs": [
    {
     "ename": "NameError",
     "evalue": "name 'forbes_global_2010_2014' is not defined",
     "output_type": "error",
     "traceback": [
      "\u001b[1;31m---------------------------------------------------------------------------\u001b[0m",
      "\u001b[1;31mNameError\u001b[0m                                 Traceback (most recent call last)",
      "Cell \u001b[1;32mIn[55], line 7\u001b[0m\n\u001b[0;32m      1\u001b[0m \u001b[38;5;124;03m'''Find the 3 most profitable companies in the entire world.\u001b[39;00m\n\u001b[0;32m      2\u001b[0m \u001b[38;5;124;03mOutput the result along with the corresponding company name.\u001b[39;00m\n\u001b[0;32m      3\u001b[0m \u001b[38;5;124;03mSort the result based on profits in descending order.'''\u001b[39;00m\n\u001b[0;32m      5\u001b[0m \u001b[38;5;66;03m#DataFrame: forbes_global_2010_2014\u001b[39;00m\n\u001b[1;32m----> 7\u001b[0m result \u001b[38;5;241m=\u001b[39m forbes_global_2010_2014\u001b[38;5;241m.\u001b[39mgroupby(\u001b[38;5;124m'\u001b[39m\u001b[38;5;124mcompany\u001b[39m\u001b[38;5;124m'\u001b[39m)[\u001b[38;5;124m'\u001b[39m\u001b[38;5;124mprofits\u001b[39m\u001b[38;5;124m'\u001b[39m]\u001b[38;5;241m.\u001b[39msum()\u001b[38;5;241m.\u001b[39mreset_index()\u001b[38;5;241m.\u001b[39msort_values(by\u001b[38;5;241m=\u001b[39m\u001b[38;5;124m'\u001b[39m\u001b[38;5;124mprofits\u001b[39m\u001b[38;5;124m'\u001b[39m, ascending\u001b[38;5;241m=\u001b[39m\u001b[38;5;28;01mFalse\u001b[39;00m)\n\u001b[0;32m      8\u001b[0m result[\u001b[38;5;124m'\u001b[39m\u001b[38;5;124mrank\u001b[39m\u001b[38;5;124m'\u001b[39m] \u001b[38;5;241m=\u001b[39m result[\u001b[38;5;124m'\u001b[39m\u001b[38;5;124mprofits\u001b[39m\u001b[38;5;124m'\u001b[39m]\u001b[38;5;241m.\u001b[39mrank(method\u001b[38;5;241m=\u001b[39m\u001b[38;5;124m'\u001b[39m\u001b[38;5;124mmin\u001b[39m\u001b[38;5;124m'\u001b[39m, ascending\u001b[38;5;241m=\u001b[39m\u001b[38;5;28;01mFalse\u001b[39;00m)\n\u001b[0;32m      9\u001b[0m result \u001b[38;5;241m=\u001b[39m result[result[\u001b[38;5;124m'\u001b[39m\u001b[38;5;124mrank\u001b[39m\u001b[38;5;124m'\u001b[39m] \u001b[38;5;241m<\u001b[39m\u001b[38;5;241m=\u001b[39m \u001b[38;5;241m3\u001b[39m][[\u001b[38;5;124m'\u001b[39m\u001b[38;5;124mcompany\u001b[39m\u001b[38;5;124m'\u001b[39m, \u001b[38;5;124m'\u001b[39m\u001b[38;5;124mprofits\u001b[39m\u001b[38;5;124m'\u001b[39m]]\n",
      "\u001b[1;31mNameError\u001b[0m: name 'forbes_global_2010_2014' is not defined"
     ]
    }
   ],
   "source": [
    "'''Find the 3 most profitable companies in the entire world.\n",
    "Output the result along with the corresponding company name.\n",
    "Sort the result based on profits in descending order.'''\n",
    "\n",
    "#DataFrame: forbes_global_2010_2014\n",
    "\n",
    "result = forbes_global_2010_2014.groupby('company')['profits'].sum().reset_index().sort_values(by='profits', ascending=False)\n",
    "result['rank'] = result['profits'].rank(method='min', ascending=False)\n",
    "result = result[result['rank'] <= 3][['company', 'profits']]"
   ]
  },
  {
   "cell_type": "code",
   "execution_count": 5,
   "id": "e86f0431",
   "metadata": {},
   "outputs": [],
   "source": [
    "import numpy as np\n",
    "import pandas as pd\n",
    "forbes = pd.read_csv(\"C:/Users/USER/Desktop/AltSchool Africa/Forbes_2000_top_company.csv\")"
   ]
  },
  {
   "cell_type": "code",
   "execution_count": 7,
   "id": "4672da3d",
   "metadata": {},
   "outputs": [
    {
     "data": {
      "text/html": [
       "<div>\n",
       "<style scoped>\n",
       "    .dataframe tbody tr th:only-of-type {\n",
       "        vertical-align: middle;\n",
       "    }\n",
       "\n",
       "    .dataframe tbody tr th {\n",
       "        vertical-align: top;\n",
       "    }\n",
       "\n",
       "    .dataframe thead th {\n",
       "        text-align: right;\n",
       "    }\n",
       "</style>\n",
       "<table border=\"1\" class=\"dataframe\">\n",
       "  <thead>\n",
       "    <tr style=\"text-align: right;\">\n",
       "      <th></th>\n",
       "      <th>2022 Ranking</th>\n",
       "      <th>Organization Name</th>\n",
       "      <th>Industry</th>\n",
       "      <th>Country</th>\n",
       "      <th>Year Founded</th>\n",
       "      <th>CEO</th>\n",
       "      <th>Revenue (Billions)</th>\n",
       "      <th>Profits (Billions)</th>\n",
       "      <th>Assets (Billions)</th>\n",
       "      <th>Market Value (Billions)</th>\n",
       "      <th>Total Employees</th>\n",
       "    </tr>\n",
       "  </thead>\n",
       "  <tbody>\n",
       "    <tr>\n",
       "      <th>0</th>\n",
       "      <td>1</td>\n",
       "      <td>Berkshire Hathaway</td>\n",
       "      <td>Diversified Financials</td>\n",
       "      <td>United States</td>\n",
       "      <td>1939</td>\n",
       "      <td>Warren Edward Buffett</td>\n",
       "      <td>276.09</td>\n",
       "      <td>89.80</td>\n",
       "      <td>958.78</td>\n",
       "      <td>741.48</td>\n",
       "      <td>372000.0</td>\n",
       "    </tr>\n",
       "    <tr>\n",
       "      <th>1</th>\n",
       "      <td>2</td>\n",
       "      <td>ICBC</td>\n",
       "      <td>Banking</td>\n",
       "      <td>China</td>\n",
       "      <td>1984</td>\n",
       "      <td>Shu Gu</td>\n",
       "      <td>208.13</td>\n",
       "      <td>54.03</td>\n",
       "      <td>5518.51</td>\n",
       "      <td>214.42</td>\n",
       "      <td>449296</td>\n",
       "    </tr>\n",
       "    <tr>\n",
       "      <th>2</th>\n",
       "      <td>3</td>\n",
       "      <td>Saudi Arabian Oil Company (Saudi Aramco)</td>\n",
       "      <td>Oil &amp; Gas Operations</td>\n",
       "      <td>Saudi Arabia</td>\n",
       "      <td>1933</td>\n",
       "      <td>Amin bin Hasan Al-Nasser</td>\n",
       "      <td>400.38</td>\n",
       "      <td>105.36</td>\n",
       "      <td>576.04</td>\n",
       "      <td>2292.08</td>\n",
       "      <td>68493.0</td>\n",
       "    </tr>\n",
       "    <tr>\n",
       "      <th>3</th>\n",
       "      <td>4</td>\n",
       "      <td>JPMorgan Chase</td>\n",
       "      <td>Diversified Financials</td>\n",
       "      <td>United States</td>\n",
       "      <td>2000</td>\n",
       "      <td>Jamie Dimon</td>\n",
       "      <td>124.54</td>\n",
       "      <td>42.12</td>\n",
       "      <td>3954.69</td>\n",
       "      <td>374.45</td>\n",
       "      <td>271025.0</td>\n",
       "    </tr>\n",
       "    <tr>\n",
       "      <th>4</th>\n",
       "      <td>5</td>\n",
       "      <td>China Construction Bank</td>\n",
       "      <td>Banking</td>\n",
       "      <td>China</td>\n",
       "      <td>2014</td>\n",
       "      <td>Wang Zuji</td>\n",
       "      <td>202.07</td>\n",
       "      <td>46.89</td>\n",
       "      <td>4746.95</td>\n",
       "      <td>181.32</td>\n",
       "      <td>352621</td>\n",
       "    </tr>\n",
       "  </tbody>\n",
       "</table>\n",
       "</div>"
      ],
      "text/plain": [
       "   2022 Ranking                         Organization Name  \\\n",
       "0             1                        Berkshire Hathaway   \n",
       "1             2                                      ICBC   \n",
       "2             3  Saudi Arabian Oil Company (Saudi Aramco)   \n",
       "3             4                            JPMorgan Chase   \n",
       "4             5                   China Construction Bank   \n",
       "\n",
       "                 Industry        Country  Year Founded  \\\n",
       "0  Diversified Financials  United States          1939   \n",
       "1                 Banking          China          1984   \n",
       "2    Oil & Gas Operations   Saudi Arabia          1933   \n",
       "3  Diversified Financials  United States          2000   \n",
       "4                 Banking          China          2014   \n",
       "\n",
       "                        CEO  Revenue (Billions)  Profits (Billions)  \\\n",
       "0     Warren Edward Buffett              276.09               89.80   \n",
       "1                    Shu Gu              208.13               54.03   \n",
       "2  Amin bin Hasan Al-Nasser              400.38              105.36   \n",
       "3               Jamie Dimon              124.54               42.12   \n",
       "4                 Wang Zuji              202.07               46.89   \n",
       "\n",
       "   Assets (Billions)  Market Value (Billions) Total Employees  \n",
       "0             958.78                   741.48        372000.0  \n",
       "1            5518.51                   214.42          449296  \n",
       "2             576.04                  2292.08         68493.0  \n",
       "3            3954.69                   374.45        271025.0  \n",
       "4            4746.95                   181.32          352621  "
      ]
     },
     "execution_count": 7,
     "metadata": {},
     "output_type": "execute_result"
    }
   ],
   "source": [
    "forbes.head()"
   ]
  },
  {
   "cell_type": "code",
   "execution_count": 13,
   "id": "dfbc59e8",
   "metadata": {},
   "outputs": [
    {
     "data": {
      "text/plain": [
       "Index(['2022 Ranking', 'Organization Name', 'Industry', 'Country',\n",
       "       'Year Founded', 'CEO', 'Revenue (Billions)', 'Profits (Billions)',\n",
       "       'Assets (Billions)', 'Market Value (Billions)', 'Total Employees'],\n",
       "      dtype='object')"
      ]
     },
     "execution_count": 13,
     "metadata": {},
     "output_type": "execute_result"
    }
   ],
   "source": [
    "forbes.columns[:]"
   ]
  },
  {
   "cell_type": "code",
   "execution_count": 56,
   "id": "7a8ae6aa",
   "metadata": {},
   "outputs": [
    {
     "data": {
      "text/plain": [
       "<pandas.core.groupby.generic.SeriesGroupBy object at 0x00000163E06BAB10>"
      ]
     },
     "execution_count": 56,
     "metadata": {},
     "output_type": "execute_result"
    }
   ],
   "source": [
    "profitable = forbes.groupby('Organization Name')['Profits (Billions)'].max().reset_index().sort_values(by='Profits (Billions)',\n",
    "                                                                                         ascending=False)\n",
    "profitable"
   ]
  },
  {
   "cell_type": "code",
   "execution_count": 54,
   "id": "d54d7864",
   "metadata": {},
   "outputs": [
    {
     "data": {
      "text/html": [
       "<div>\n",
       "<style scoped>\n",
       "    .dataframe tbody tr th:only-of-type {\n",
       "        vertical-align: middle;\n",
       "    }\n",
       "\n",
       "    .dataframe tbody tr th {\n",
       "        vertical-align: top;\n",
       "    }\n",
       "\n",
       "    .dataframe thead th {\n",
       "        text-align: right;\n",
       "    }\n",
       "</style>\n",
       "<table border=\"1\" class=\"dataframe\">\n",
       "  <thead>\n",
       "    <tr style=\"text-align: right;\">\n",
       "      <th></th>\n",
       "      <th>Organization Name</th>\n",
       "      <th>Profits (Billions)</th>\n",
       "    </tr>\n",
       "  </thead>\n",
       "  <tbody>\n",
       "    <tr>\n",
       "      <th>1547</th>\n",
       "      <td>Saudi Arabian Oil Company (Saudi Aramco)</td>\n",
       "      <td>105.36</td>\n",
       "    </tr>\n",
       "    <tr>\n",
       "      <th>133</th>\n",
       "      <td>Apple</td>\n",
       "      <td>100.56</td>\n",
       "    </tr>\n",
       "    <tr>\n",
       "      <th>284</th>\n",
       "      <td>Berkshire Hathaway</td>\n",
       "      <td>89.80</td>\n",
       "    </tr>\n",
       "  </tbody>\n",
       "</table>\n",
       "</div>"
      ],
      "text/plain": [
       "                             Organization Name  Profits (Billions)\n",
       "1547  Saudi Arabian Oil Company (Saudi Aramco)              105.36\n",
       "133                                      Apple              100.56\n",
       "284                         Berkshire Hathaway               89.80"
      ]
     },
     "execution_count": 54,
     "metadata": {},
     "output_type": "execute_result"
    }
   ],
   "source": [
    "profitable1 = profitable.iloc[:3]\n",
    "profitable1"
   ]
  },
  {
   "cell_type": "code",
   "execution_count": 1,
   "id": "1903cd11",
   "metadata": {},
   "outputs": [],
   "source": [
    "# Create new inventory for a supermarket\n",
    "Store = open('store.csv', 'a')\n",
    "import pandas as pd"
   ]
  },
  {
   "cell_type": "code",
   "execution_count": 2,
   "id": "05f2e60c",
   "metadata": {},
   "outputs": [],
   "source": [
    "def add_item():\n",
    "    product_name = input(\"Enter the name of product: \")\n",
    "    quantity = int(input(\"Enter the quantity of product: \"))\n",
    "    price = float(input(\"Enter the price of product: \"))\n",
    "    \n",
    "    Store = pd.DataFrame({'Product Name':[product_name], 'Quantity':[quantity], 'Price':[price]})\n",
    "    #Store = Store[['product_name', 'quantity', 'price']]\n",
    "    Store = Store.write('store.csv', 'a')\n",
    "    return Store\n",
    "    print(f'Product {product_name} added succesfully!\\n')\n",
    "    "
   ]
  },
  {
   "cell_type": "code",
   "execution_count": null,
   "id": "13a5f37c",
   "metadata": {},
   "outputs": [],
   "source": [
    "add_item()"
   ]
  },
  {
   "cell_type": "code",
   "execution_count": 1,
   "id": "90e3a35d",
   "metadata": {},
   "outputs": [],
   "source": [
    "from inventory_file import run_inventory_ms"
   ]
  },
  {
   "cell_type": "code",
   "execution_count": 2,
   "id": "6331a56c",
   "metadata": {},
   "outputs": [],
   "source": [
    "import pandas as pd"
   ]
  },
  {
   "cell_type": "code",
   "execution_count": 3,
   "id": "bf086758",
   "metadata": {},
   "outputs": [
    {
     "name": "stdout",
     "output_type": "stream",
     "text": [
      "\n",
      "Inventory Management System\n",
      "1. Add Product\n",
      "2. View Inventory\n",
      "3. Search Product\n",
      "4. Delete product\n",
      "5. Exit\n",
      "Enter any of option(1-5): 5\n",
      "You have successfully exited the IMS\n"
     ]
    }
   ],
   "source": [
    "run_inventory_ms()"
   ]
  },
  {
   "cell_type": "code",
   "execution_count": null,
   "id": "37154595",
   "metadata": {},
   "outputs": [],
   "source": []
  }
 ],
 "metadata": {
  "kernelspec": {
   "display_name": "Python 3 (ipykernel)",
   "language": "python",
   "name": "python3"
  },
  "language_info": {
   "codemirror_mode": {
    "name": "ipython",
    "version": 3
   },
   "file_extension": ".py",
   "mimetype": "text/x-python",
   "name": "python",
   "nbconvert_exporter": "python",
   "pygments_lexer": "ipython3",
   "version": "3.11.5"
  }
 },
 "nbformat": 4,
 "nbformat_minor": 5
}
